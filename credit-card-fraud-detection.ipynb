{
 "cells": [
  {
   "cell_type": "code",
   "execution_count": 1,
   "id": "5430d80f",
   "metadata": {
    "_cell_guid": "b1076dfc-b9ad-4769-8c92-a6c4dae69d19",
    "_uuid": "8f2839f25d086af736a60e9eeb907d3b93b6e0e5",
    "execution": {
     "iopub.execute_input": "2024-07-06T08:21:39.956402Z",
     "iopub.status.busy": "2024-07-06T08:21:39.955913Z",
     "iopub.status.idle": "2024-07-06T08:21:40.955841Z",
     "shell.execute_reply": "2024-07-06T08:21:40.954488Z"
    },
    "papermill": {
     "duration": 1.02172,
     "end_time": "2024-07-06T08:21:40.958708",
     "exception": false,
     "start_time": "2024-07-06T08:21:39.936988",
     "status": "completed"
    },
    "tags": []
   },
   "outputs": [
    {
     "name": "stdout",
     "output_type": "stream",
     "text": [
      "/kaggle/input/creditcardfraud/creditcard.csv\n"
     ]
    }
   ],
   "source": [
    "# This Python 3 environment comes with many helpful analytics libraries installed\n",
    "# It is defined by the kaggle/python Docker image: https://github.com/kaggle/docker-python\n",
    "# For example, here's several helpful packages to load\n",
    "\n",
    "import numpy as np # linear algebra\n",
    "import pandas as pd # data processing, CSV file I/O (e.g. pd.read_csv)\n",
    "\n",
    "# Input data files are available in the read-only \"../input/\" directory\n",
    "# For example, running this (by clicking run or pressing Shift+Enter) will list all files under the input directory\n",
    "\n",
    "import os\n",
    "for dirname, _, filenames in os.walk('/kaggle/input'):\n",
    "    for filename in filenames:\n",
    "        print(os.path.join(dirname, filename))\n",
    "\n",
    "# You can write up to 20GB to the current directory (/kaggle/working/) that gets preserved as output when you create a version using \"Save & Run All\" \n",
    "# You can also write temporary files to /kaggle/temp/, but they won't be saved outside of the current session"
   ]
  },
  {
   "cell_type": "code",
   "execution_count": 2,
   "id": "567f95b4",
   "metadata": {
    "execution": {
     "iopub.execute_input": "2024-07-06T08:21:40.994564Z",
     "iopub.status.busy": "2024-07-06T08:21:40.994022Z",
     "iopub.status.idle": "2024-07-06T08:21:40.999230Z",
     "shell.execute_reply": "2024-07-06T08:21:40.998155Z"
    },
    "papermill": {
     "duration": 0.026071,
     "end_time": "2024-07-06T08:21:41.001762",
     "exception": false,
     "start_time": "2024-07-06T08:21:40.975691",
     "status": "completed"
    },
    "tags": []
   },
   "outputs": [],
   "source": [
    "import pandas as pd"
   ]
  },
  {
   "cell_type": "code",
   "execution_count": 3,
   "id": "4e5bd7f3",
   "metadata": {
    "execution": {
     "iopub.execute_input": "2024-07-06T08:21:41.038281Z",
     "iopub.status.busy": "2024-07-06T08:21:41.037871Z",
     "iopub.status.idle": "2024-07-06T08:21:45.439923Z",
     "shell.execute_reply": "2024-07-06T08:21:45.438831Z"
    },
    "papermill": {
     "duration": 4.423434,
     "end_time": "2024-07-06T08:21:45.442740",
     "exception": false,
     "start_time": "2024-07-06T08:21:41.019306",
     "status": "completed"
    },
    "tags": []
   },
   "outputs": [],
   "source": [
    "data = pd.read_csv(\"/kaggle/input/creditcardfraud/creditcard.csv\")\n"
   ]
  },
  {
   "cell_type": "code",
   "execution_count": 4,
   "id": "bdf13697",
   "metadata": {
    "execution": {
     "iopub.execute_input": "2024-07-06T08:21:45.478489Z",
     "iopub.status.busy": "2024-07-06T08:21:45.478067Z",
     "iopub.status.idle": "2024-07-06T08:21:45.519685Z",
     "shell.execute_reply": "2024-07-06T08:21:45.518424Z"
    },
    "papermill": {
     "duration": 0.062708,
     "end_time": "2024-07-06T08:21:45.522439",
     "exception": false,
     "start_time": "2024-07-06T08:21:45.459731",
     "status": "completed"
    },
    "tags": []
   },
   "outputs": [
    {
     "data": {
      "text/html": [
       "<div>\n",
       "<style scoped>\n",
       "    .dataframe tbody tr th:only-of-type {\n",
       "        vertical-align: middle;\n",
       "    }\n",
       "\n",
       "    .dataframe tbody tr th {\n",
       "        vertical-align: top;\n",
       "    }\n",
       "\n",
       "    .dataframe thead th {\n",
       "        text-align: right;\n",
       "    }\n",
       "</style>\n",
       "<table border=\"1\" class=\"dataframe\">\n",
       "  <thead>\n",
       "    <tr style=\"text-align: right;\">\n",
       "      <th></th>\n",
       "      <th>Time</th>\n",
       "      <th>V1</th>\n",
       "      <th>V2</th>\n",
       "      <th>V3</th>\n",
       "      <th>V4</th>\n",
       "      <th>V5</th>\n",
       "      <th>V6</th>\n",
       "      <th>V7</th>\n",
       "      <th>V8</th>\n",
       "      <th>V9</th>\n",
       "      <th>...</th>\n",
       "      <th>V21</th>\n",
       "      <th>V22</th>\n",
       "      <th>V23</th>\n",
       "      <th>V24</th>\n",
       "      <th>V25</th>\n",
       "      <th>V26</th>\n",
       "      <th>V27</th>\n",
       "      <th>V28</th>\n",
       "      <th>Amount</th>\n",
       "      <th>Class</th>\n",
       "    </tr>\n",
       "  </thead>\n",
       "  <tbody>\n",
       "    <tr>\n",
       "      <th>0</th>\n",
       "      <td>0.0</td>\n",
       "      <td>-1.359807</td>\n",
       "      <td>-0.072781</td>\n",
       "      <td>2.536347</td>\n",
       "      <td>1.378155</td>\n",
       "      <td>-0.338321</td>\n",
       "      <td>0.462388</td>\n",
       "      <td>0.239599</td>\n",
       "      <td>0.098698</td>\n",
       "      <td>0.363787</td>\n",
       "      <td>...</td>\n",
       "      <td>-0.018307</td>\n",
       "      <td>0.277838</td>\n",
       "      <td>-0.110474</td>\n",
       "      <td>0.066928</td>\n",
       "      <td>0.128539</td>\n",
       "      <td>-0.189115</td>\n",
       "      <td>0.133558</td>\n",
       "      <td>-0.021053</td>\n",
       "      <td>149.62</td>\n",
       "      <td>0</td>\n",
       "    </tr>\n",
       "    <tr>\n",
       "      <th>1</th>\n",
       "      <td>0.0</td>\n",
       "      <td>1.191857</td>\n",
       "      <td>0.266151</td>\n",
       "      <td>0.166480</td>\n",
       "      <td>0.448154</td>\n",
       "      <td>0.060018</td>\n",
       "      <td>-0.082361</td>\n",
       "      <td>-0.078803</td>\n",
       "      <td>0.085102</td>\n",
       "      <td>-0.255425</td>\n",
       "      <td>...</td>\n",
       "      <td>-0.225775</td>\n",
       "      <td>-0.638672</td>\n",
       "      <td>0.101288</td>\n",
       "      <td>-0.339846</td>\n",
       "      <td>0.167170</td>\n",
       "      <td>0.125895</td>\n",
       "      <td>-0.008983</td>\n",
       "      <td>0.014724</td>\n",
       "      <td>2.69</td>\n",
       "      <td>0</td>\n",
       "    </tr>\n",
       "    <tr>\n",
       "      <th>2</th>\n",
       "      <td>1.0</td>\n",
       "      <td>-1.358354</td>\n",
       "      <td>-1.340163</td>\n",
       "      <td>1.773209</td>\n",
       "      <td>0.379780</td>\n",
       "      <td>-0.503198</td>\n",
       "      <td>1.800499</td>\n",
       "      <td>0.791461</td>\n",
       "      <td>0.247676</td>\n",
       "      <td>-1.514654</td>\n",
       "      <td>...</td>\n",
       "      <td>0.247998</td>\n",
       "      <td>0.771679</td>\n",
       "      <td>0.909412</td>\n",
       "      <td>-0.689281</td>\n",
       "      <td>-0.327642</td>\n",
       "      <td>-0.139097</td>\n",
       "      <td>-0.055353</td>\n",
       "      <td>-0.059752</td>\n",
       "      <td>378.66</td>\n",
       "      <td>0</td>\n",
       "    </tr>\n",
       "    <tr>\n",
       "      <th>3</th>\n",
       "      <td>1.0</td>\n",
       "      <td>-0.966272</td>\n",
       "      <td>-0.185226</td>\n",
       "      <td>1.792993</td>\n",
       "      <td>-0.863291</td>\n",
       "      <td>-0.010309</td>\n",
       "      <td>1.247203</td>\n",
       "      <td>0.237609</td>\n",
       "      <td>0.377436</td>\n",
       "      <td>-1.387024</td>\n",
       "      <td>...</td>\n",
       "      <td>-0.108300</td>\n",
       "      <td>0.005274</td>\n",
       "      <td>-0.190321</td>\n",
       "      <td>-1.175575</td>\n",
       "      <td>0.647376</td>\n",
       "      <td>-0.221929</td>\n",
       "      <td>0.062723</td>\n",
       "      <td>0.061458</td>\n",
       "      <td>123.50</td>\n",
       "      <td>0</td>\n",
       "    </tr>\n",
       "    <tr>\n",
       "      <th>4</th>\n",
       "      <td>2.0</td>\n",
       "      <td>-1.158233</td>\n",
       "      <td>0.877737</td>\n",
       "      <td>1.548718</td>\n",
       "      <td>0.403034</td>\n",
       "      <td>-0.407193</td>\n",
       "      <td>0.095921</td>\n",
       "      <td>0.592941</td>\n",
       "      <td>-0.270533</td>\n",
       "      <td>0.817739</td>\n",
       "      <td>...</td>\n",
       "      <td>-0.009431</td>\n",
       "      <td>0.798278</td>\n",
       "      <td>-0.137458</td>\n",
       "      <td>0.141267</td>\n",
       "      <td>-0.206010</td>\n",
       "      <td>0.502292</td>\n",
       "      <td>0.219422</td>\n",
       "      <td>0.215153</td>\n",
       "      <td>69.99</td>\n",
       "      <td>0</td>\n",
       "    </tr>\n",
       "  </tbody>\n",
       "</table>\n",
       "<p>5 rows × 31 columns</p>\n",
       "</div>"
      ],
      "text/plain": [
       "   Time        V1        V2        V3        V4        V5        V6        V7  \\\n",
       "0   0.0 -1.359807 -0.072781  2.536347  1.378155 -0.338321  0.462388  0.239599   \n",
       "1   0.0  1.191857  0.266151  0.166480  0.448154  0.060018 -0.082361 -0.078803   \n",
       "2   1.0 -1.358354 -1.340163  1.773209  0.379780 -0.503198  1.800499  0.791461   \n",
       "3   1.0 -0.966272 -0.185226  1.792993 -0.863291 -0.010309  1.247203  0.237609   \n",
       "4   2.0 -1.158233  0.877737  1.548718  0.403034 -0.407193  0.095921  0.592941   \n",
       "\n",
       "         V8        V9  ...       V21       V22       V23       V24       V25  \\\n",
       "0  0.098698  0.363787  ... -0.018307  0.277838 -0.110474  0.066928  0.128539   \n",
       "1  0.085102 -0.255425  ... -0.225775 -0.638672  0.101288 -0.339846  0.167170   \n",
       "2  0.247676 -1.514654  ...  0.247998  0.771679  0.909412 -0.689281 -0.327642   \n",
       "3  0.377436 -1.387024  ... -0.108300  0.005274 -0.190321 -1.175575  0.647376   \n",
       "4 -0.270533  0.817739  ... -0.009431  0.798278 -0.137458  0.141267 -0.206010   \n",
       "\n",
       "        V26       V27       V28  Amount  Class  \n",
       "0 -0.189115  0.133558 -0.021053  149.62      0  \n",
       "1  0.125895 -0.008983  0.014724    2.69      0  \n",
       "2 -0.139097 -0.055353 -0.059752  378.66      0  \n",
       "3 -0.221929  0.062723  0.061458  123.50      0  \n",
       "4  0.502292  0.219422  0.215153   69.99      0  \n",
       "\n",
       "[5 rows x 31 columns]"
      ]
     },
     "execution_count": 4,
     "metadata": {},
     "output_type": "execute_result"
    }
   ],
   "source": [
    "data.head()"
   ]
  },
  {
   "cell_type": "code",
   "execution_count": 5,
   "id": "86dd0e92",
   "metadata": {
    "execution": {
     "iopub.execute_input": "2024-07-06T08:21:45.561348Z",
     "iopub.status.busy": "2024-07-06T08:21:45.560691Z",
     "iopub.status.idle": "2024-07-06T08:21:45.566928Z",
     "shell.execute_reply": "2024-07-06T08:21:45.565346Z"
    },
    "papermill": {
     "duration": 0.028644,
     "end_time": "2024-07-06T08:21:45.569596",
     "exception": false,
     "start_time": "2024-07-06T08:21:45.540952",
     "status": "completed"
    },
    "tags": []
   },
   "outputs": [],
   "source": [
    "pd.options.display.max_columns = None"
   ]
  },
  {
   "cell_type": "code",
   "execution_count": 6,
   "id": "13a08939",
   "metadata": {
    "execution": {
     "iopub.execute_input": "2024-07-06T08:21:45.616174Z",
     "iopub.status.busy": "2024-07-06T08:21:45.614884Z",
     "iopub.status.idle": "2024-07-06T08:21:45.650968Z",
     "shell.execute_reply": "2024-07-06T08:21:45.649832Z"
    },
    "papermill": {
     "duration": 0.061758,
     "end_time": "2024-07-06T08:21:45.653731",
     "exception": false,
     "start_time": "2024-07-06T08:21:45.591973",
     "status": "completed"
    },
    "tags": []
   },
   "outputs": [
    {
     "data": {
      "text/html": [
       "<div>\n",
       "<style scoped>\n",
       "    .dataframe tbody tr th:only-of-type {\n",
       "        vertical-align: middle;\n",
       "    }\n",
       "\n",
       "    .dataframe tbody tr th {\n",
       "        vertical-align: top;\n",
       "    }\n",
       "\n",
       "    .dataframe thead th {\n",
       "        text-align: right;\n",
       "    }\n",
       "</style>\n",
       "<table border=\"1\" class=\"dataframe\">\n",
       "  <thead>\n",
       "    <tr style=\"text-align: right;\">\n",
       "      <th></th>\n",
       "      <th>Time</th>\n",
       "      <th>V1</th>\n",
       "      <th>V2</th>\n",
       "      <th>V3</th>\n",
       "      <th>V4</th>\n",
       "      <th>V5</th>\n",
       "      <th>V6</th>\n",
       "      <th>V7</th>\n",
       "      <th>V8</th>\n",
       "      <th>V9</th>\n",
       "      <th>V10</th>\n",
       "      <th>V11</th>\n",
       "      <th>V12</th>\n",
       "      <th>V13</th>\n",
       "      <th>V14</th>\n",
       "      <th>V15</th>\n",
       "      <th>V16</th>\n",
       "      <th>V17</th>\n",
       "      <th>V18</th>\n",
       "      <th>V19</th>\n",
       "      <th>V20</th>\n",
       "      <th>V21</th>\n",
       "      <th>V22</th>\n",
       "      <th>V23</th>\n",
       "      <th>V24</th>\n",
       "      <th>V25</th>\n",
       "      <th>V26</th>\n",
       "      <th>V27</th>\n",
       "      <th>V28</th>\n",
       "      <th>Amount</th>\n",
       "      <th>Class</th>\n",
       "    </tr>\n",
       "  </thead>\n",
       "  <tbody>\n",
       "    <tr>\n",
       "      <th>0</th>\n",
       "      <td>0.0</td>\n",
       "      <td>-1.359807</td>\n",
       "      <td>-0.072781</td>\n",
       "      <td>2.536347</td>\n",
       "      <td>1.378155</td>\n",
       "      <td>-0.338321</td>\n",
       "      <td>0.462388</td>\n",
       "      <td>0.239599</td>\n",
       "      <td>0.098698</td>\n",
       "      <td>0.363787</td>\n",
       "      <td>0.090794</td>\n",
       "      <td>-0.551600</td>\n",
       "      <td>-0.617801</td>\n",
       "      <td>-0.991390</td>\n",
       "      <td>-0.311169</td>\n",
       "      <td>1.468177</td>\n",
       "      <td>-0.470401</td>\n",
       "      <td>0.207971</td>\n",
       "      <td>0.025791</td>\n",
       "      <td>0.403993</td>\n",
       "      <td>0.251412</td>\n",
       "      <td>-0.018307</td>\n",
       "      <td>0.277838</td>\n",
       "      <td>-0.110474</td>\n",
       "      <td>0.066928</td>\n",
       "      <td>0.128539</td>\n",
       "      <td>-0.189115</td>\n",
       "      <td>0.133558</td>\n",
       "      <td>-0.021053</td>\n",
       "      <td>149.62</td>\n",
       "      <td>0</td>\n",
       "    </tr>\n",
       "    <tr>\n",
       "      <th>1</th>\n",
       "      <td>0.0</td>\n",
       "      <td>1.191857</td>\n",
       "      <td>0.266151</td>\n",
       "      <td>0.166480</td>\n",
       "      <td>0.448154</td>\n",
       "      <td>0.060018</td>\n",
       "      <td>-0.082361</td>\n",
       "      <td>-0.078803</td>\n",
       "      <td>0.085102</td>\n",
       "      <td>-0.255425</td>\n",
       "      <td>-0.166974</td>\n",
       "      <td>1.612727</td>\n",
       "      <td>1.065235</td>\n",
       "      <td>0.489095</td>\n",
       "      <td>-0.143772</td>\n",
       "      <td>0.635558</td>\n",
       "      <td>0.463917</td>\n",
       "      <td>-0.114805</td>\n",
       "      <td>-0.183361</td>\n",
       "      <td>-0.145783</td>\n",
       "      <td>-0.069083</td>\n",
       "      <td>-0.225775</td>\n",
       "      <td>-0.638672</td>\n",
       "      <td>0.101288</td>\n",
       "      <td>-0.339846</td>\n",
       "      <td>0.167170</td>\n",
       "      <td>0.125895</td>\n",
       "      <td>-0.008983</td>\n",
       "      <td>0.014724</td>\n",
       "      <td>2.69</td>\n",
       "      <td>0</td>\n",
       "    </tr>\n",
       "    <tr>\n",
       "      <th>2</th>\n",
       "      <td>1.0</td>\n",
       "      <td>-1.358354</td>\n",
       "      <td>-1.340163</td>\n",
       "      <td>1.773209</td>\n",
       "      <td>0.379780</td>\n",
       "      <td>-0.503198</td>\n",
       "      <td>1.800499</td>\n",
       "      <td>0.791461</td>\n",
       "      <td>0.247676</td>\n",
       "      <td>-1.514654</td>\n",
       "      <td>0.207643</td>\n",
       "      <td>0.624501</td>\n",
       "      <td>0.066084</td>\n",
       "      <td>0.717293</td>\n",
       "      <td>-0.165946</td>\n",
       "      <td>2.345865</td>\n",
       "      <td>-2.890083</td>\n",
       "      <td>1.109969</td>\n",
       "      <td>-0.121359</td>\n",
       "      <td>-2.261857</td>\n",
       "      <td>0.524980</td>\n",
       "      <td>0.247998</td>\n",
       "      <td>0.771679</td>\n",
       "      <td>0.909412</td>\n",
       "      <td>-0.689281</td>\n",
       "      <td>-0.327642</td>\n",
       "      <td>-0.139097</td>\n",
       "      <td>-0.055353</td>\n",
       "      <td>-0.059752</td>\n",
       "      <td>378.66</td>\n",
       "      <td>0</td>\n",
       "    </tr>\n",
       "    <tr>\n",
       "      <th>3</th>\n",
       "      <td>1.0</td>\n",
       "      <td>-0.966272</td>\n",
       "      <td>-0.185226</td>\n",
       "      <td>1.792993</td>\n",
       "      <td>-0.863291</td>\n",
       "      <td>-0.010309</td>\n",
       "      <td>1.247203</td>\n",
       "      <td>0.237609</td>\n",
       "      <td>0.377436</td>\n",
       "      <td>-1.387024</td>\n",
       "      <td>-0.054952</td>\n",
       "      <td>-0.226487</td>\n",
       "      <td>0.178228</td>\n",
       "      <td>0.507757</td>\n",
       "      <td>-0.287924</td>\n",
       "      <td>-0.631418</td>\n",
       "      <td>-1.059647</td>\n",
       "      <td>-0.684093</td>\n",
       "      <td>1.965775</td>\n",
       "      <td>-1.232622</td>\n",
       "      <td>-0.208038</td>\n",
       "      <td>-0.108300</td>\n",
       "      <td>0.005274</td>\n",
       "      <td>-0.190321</td>\n",
       "      <td>-1.175575</td>\n",
       "      <td>0.647376</td>\n",
       "      <td>-0.221929</td>\n",
       "      <td>0.062723</td>\n",
       "      <td>0.061458</td>\n",
       "      <td>123.50</td>\n",
       "      <td>0</td>\n",
       "    </tr>\n",
       "    <tr>\n",
       "      <th>4</th>\n",
       "      <td>2.0</td>\n",
       "      <td>-1.158233</td>\n",
       "      <td>0.877737</td>\n",
       "      <td>1.548718</td>\n",
       "      <td>0.403034</td>\n",
       "      <td>-0.407193</td>\n",
       "      <td>0.095921</td>\n",
       "      <td>0.592941</td>\n",
       "      <td>-0.270533</td>\n",
       "      <td>0.817739</td>\n",
       "      <td>0.753074</td>\n",
       "      <td>-0.822843</td>\n",
       "      <td>0.538196</td>\n",
       "      <td>1.345852</td>\n",
       "      <td>-1.119670</td>\n",
       "      <td>0.175121</td>\n",
       "      <td>-0.451449</td>\n",
       "      <td>-0.237033</td>\n",
       "      <td>-0.038195</td>\n",
       "      <td>0.803487</td>\n",
       "      <td>0.408542</td>\n",
       "      <td>-0.009431</td>\n",
       "      <td>0.798278</td>\n",
       "      <td>-0.137458</td>\n",
       "      <td>0.141267</td>\n",
       "      <td>-0.206010</td>\n",
       "      <td>0.502292</td>\n",
       "      <td>0.219422</td>\n",
       "      <td>0.215153</td>\n",
       "      <td>69.99</td>\n",
       "      <td>0</td>\n",
       "    </tr>\n",
       "  </tbody>\n",
       "</table>\n",
       "</div>"
      ],
      "text/plain": [
       "   Time        V1        V2        V3        V4        V5        V6        V7  \\\n",
       "0   0.0 -1.359807 -0.072781  2.536347  1.378155 -0.338321  0.462388  0.239599   \n",
       "1   0.0  1.191857  0.266151  0.166480  0.448154  0.060018 -0.082361 -0.078803   \n",
       "2   1.0 -1.358354 -1.340163  1.773209  0.379780 -0.503198  1.800499  0.791461   \n",
       "3   1.0 -0.966272 -0.185226  1.792993 -0.863291 -0.010309  1.247203  0.237609   \n",
       "4   2.0 -1.158233  0.877737  1.548718  0.403034 -0.407193  0.095921  0.592941   \n",
       "\n",
       "         V8        V9       V10       V11       V12       V13       V14  \\\n",
       "0  0.098698  0.363787  0.090794 -0.551600 -0.617801 -0.991390 -0.311169   \n",
       "1  0.085102 -0.255425 -0.166974  1.612727  1.065235  0.489095 -0.143772   \n",
       "2  0.247676 -1.514654  0.207643  0.624501  0.066084  0.717293 -0.165946   \n",
       "3  0.377436 -1.387024 -0.054952 -0.226487  0.178228  0.507757 -0.287924   \n",
       "4 -0.270533  0.817739  0.753074 -0.822843  0.538196  1.345852 -1.119670   \n",
       "\n",
       "        V15       V16       V17       V18       V19       V20       V21  \\\n",
       "0  1.468177 -0.470401  0.207971  0.025791  0.403993  0.251412 -0.018307   \n",
       "1  0.635558  0.463917 -0.114805 -0.183361 -0.145783 -0.069083 -0.225775   \n",
       "2  2.345865 -2.890083  1.109969 -0.121359 -2.261857  0.524980  0.247998   \n",
       "3 -0.631418 -1.059647 -0.684093  1.965775 -1.232622 -0.208038 -0.108300   \n",
       "4  0.175121 -0.451449 -0.237033 -0.038195  0.803487  0.408542 -0.009431   \n",
       "\n",
       "        V22       V23       V24       V25       V26       V27       V28  \\\n",
       "0  0.277838 -0.110474  0.066928  0.128539 -0.189115  0.133558 -0.021053   \n",
       "1 -0.638672  0.101288 -0.339846  0.167170  0.125895 -0.008983  0.014724   \n",
       "2  0.771679  0.909412 -0.689281 -0.327642 -0.139097 -0.055353 -0.059752   \n",
       "3  0.005274 -0.190321 -1.175575  0.647376 -0.221929  0.062723  0.061458   \n",
       "4  0.798278 -0.137458  0.141267 -0.206010  0.502292  0.219422  0.215153   \n",
       "\n",
       "   Amount  Class  \n",
       "0  149.62      0  \n",
       "1    2.69      0  \n",
       "2  378.66      0  \n",
       "3  123.50      0  \n",
       "4   69.99      0  "
      ]
     },
     "execution_count": 6,
     "metadata": {},
     "output_type": "execute_result"
    }
   ],
   "source": [
    "data.head()"
   ]
  },
  {
   "cell_type": "code",
   "execution_count": 7,
   "id": "d917be71",
   "metadata": {
    "execution": {
     "iopub.execute_input": "2024-07-06T08:21:45.699431Z",
     "iopub.status.busy": "2024-07-06T08:21:45.698335Z",
     "iopub.status.idle": "2024-07-06T08:21:45.745854Z",
     "shell.execute_reply": "2024-07-06T08:21:45.744560Z"
    },
    "papermill": {
     "duration": 0.077245,
     "end_time": "2024-07-06T08:21:45.749632",
     "exception": false,
     "start_time": "2024-07-06T08:21:45.672387",
     "status": "completed"
    },
    "tags": []
   },
   "outputs": [
    {
     "data": {
      "text/html": [
       "<div>\n",
       "<style scoped>\n",
       "    .dataframe tbody tr th:only-of-type {\n",
       "        vertical-align: middle;\n",
       "    }\n",
       "\n",
       "    .dataframe tbody tr th {\n",
       "        vertical-align: top;\n",
       "    }\n",
       "\n",
       "    .dataframe thead th {\n",
       "        text-align: right;\n",
       "    }\n",
       "</style>\n",
       "<table border=\"1\" class=\"dataframe\">\n",
       "  <thead>\n",
       "    <tr style=\"text-align: right;\">\n",
       "      <th></th>\n",
       "      <th>Time</th>\n",
       "      <th>V1</th>\n",
       "      <th>V2</th>\n",
       "      <th>V3</th>\n",
       "      <th>V4</th>\n",
       "      <th>V5</th>\n",
       "      <th>V6</th>\n",
       "      <th>V7</th>\n",
       "      <th>V8</th>\n",
       "      <th>V9</th>\n",
       "      <th>V10</th>\n",
       "      <th>V11</th>\n",
       "      <th>V12</th>\n",
       "      <th>V13</th>\n",
       "      <th>V14</th>\n",
       "      <th>V15</th>\n",
       "      <th>V16</th>\n",
       "      <th>V17</th>\n",
       "      <th>V18</th>\n",
       "      <th>V19</th>\n",
       "      <th>V20</th>\n",
       "      <th>V21</th>\n",
       "      <th>V22</th>\n",
       "      <th>V23</th>\n",
       "      <th>V24</th>\n",
       "      <th>V25</th>\n",
       "      <th>V26</th>\n",
       "      <th>V27</th>\n",
       "      <th>V28</th>\n",
       "      <th>Amount</th>\n",
       "      <th>Class</th>\n",
       "    </tr>\n",
       "  </thead>\n",
       "  <tbody>\n",
       "    <tr>\n",
       "      <th>284802</th>\n",
       "      <td>172786.0</td>\n",
       "      <td>-11.881118</td>\n",
       "      <td>10.071785</td>\n",
       "      <td>-9.834783</td>\n",
       "      <td>-2.066656</td>\n",
       "      <td>-5.364473</td>\n",
       "      <td>-2.606837</td>\n",
       "      <td>-4.918215</td>\n",
       "      <td>7.305334</td>\n",
       "      <td>1.914428</td>\n",
       "      <td>4.356170</td>\n",
       "      <td>-1.593105</td>\n",
       "      <td>2.711941</td>\n",
       "      <td>-0.689256</td>\n",
       "      <td>4.626942</td>\n",
       "      <td>-0.924459</td>\n",
       "      <td>1.107641</td>\n",
       "      <td>1.991691</td>\n",
       "      <td>0.510632</td>\n",
       "      <td>-0.682920</td>\n",
       "      <td>1.475829</td>\n",
       "      <td>0.213454</td>\n",
       "      <td>0.111864</td>\n",
       "      <td>1.014480</td>\n",
       "      <td>-0.509348</td>\n",
       "      <td>1.436807</td>\n",
       "      <td>0.250034</td>\n",
       "      <td>0.943651</td>\n",
       "      <td>0.823731</td>\n",
       "      <td>0.77</td>\n",
       "      <td>0</td>\n",
       "    </tr>\n",
       "    <tr>\n",
       "      <th>284803</th>\n",
       "      <td>172787.0</td>\n",
       "      <td>-0.732789</td>\n",
       "      <td>-0.055080</td>\n",
       "      <td>2.035030</td>\n",
       "      <td>-0.738589</td>\n",
       "      <td>0.868229</td>\n",
       "      <td>1.058415</td>\n",
       "      <td>0.024330</td>\n",
       "      <td>0.294869</td>\n",
       "      <td>0.584800</td>\n",
       "      <td>-0.975926</td>\n",
       "      <td>-0.150189</td>\n",
       "      <td>0.915802</td>\n",
       "      <td>1.214756</td>\n",
       "      <td>-0.675143</td>\n",
       "      <td>1.164931</td>\n",
       "      <td>-0.711757</td>\n",
       "      <td>-0.025693</td>\n",
       "      <td>-1.221179</td>\n",
       "      <td>-1.545556</td>\n",
       "      <td>0.059616</td>\n",
       "      <td>0.214205</td>\n",
       "      <td>0.924384</td>\n",
       "      <td>0.012463</td>\n",
       "      <td>-1.016226</td>\n",
       "      <td>-0.606624</td>\n",
       "      <td>-0.395255</td>\n",
       "      <td>0.068472</td>\n",
       "      <td>-0.053527</td>\n",
       "      <td>24.79</td>\n",
       "      <td>0</td>\n",
       "    </tr>\n",
       "    <tr>\n",
       "      <th>284804</th>\n",
       "      <td>172788.0</td>\n",
       "      <td>1.919565</td>\n",
       "      <td>-0.301254</td>\n",
       "      <td>-3.249640</td>\n",
       "      <td>-0.557828</td>\n",
       "      <td>2.630515</td>\n",
       "      <td>3.031260</td>\n",
       "      <td>-0.296827</td>\n",
       "      <td>0.708417</td>\n",
       "      <td>0.432454</td>\n",
       "      <td>-0.484782</td>\n",
       "      <td>0.411614</td>\n",
       "      <td>0.063119</td>\n",
       "      <td>-0.183699</td>\n",
       "      <td>-0.510602</td>\n",
       "      <td>1.329284</td>\n",
       "      <td>0.140716</td>\n",
       "      <td>0.313502</td>\n",
       "      <td>0.395652</td>\n",
       "      <td>-0.577252</td>\n",
       "      <td>0.001396</td>\n",
       "      <td>0.232045</td>\n",
       "      <td>0.578229</td>\n",
       "      <td>-0.037501</td>\n",
       "      <td>0.640134</td>\n",
       "      <td>0.265745</td>\n",
       "      <td>-0.087371</td>\n",
       "      <td>0.004455</td>\n",
       "      <td>-0.026561</td>\n",
       "      <td>67.88</td>\n",
       "      <td>0</td>\n",
       "    </tr>\n",
       "    <tr>\n",
       "      <th>284805</th>\n",
       "      <td>172788.0</td>\n",
       "      <td>-0.240440</td>\n",
       "      <td>0.530483</td>\n",
       "      <td>0.702510</td>\n",
       "      <td>0.689799</td>\n",
       "      <td>-0.377961</td>\n",
       "      <td>0.623708</td>\n",
       "      <td>-0.686180</td>\n",
       "      <td>0.679145</td>\n",
       "      <td>0.392087</td>\n",
       "      <td>-0.399126</td>\n",
       "      <td>-1.933849</td>\n",
       "      <td>-0.962886</td>\n",
       "      <td>-1.042082</td>\n",
       "      <td>0.449624</td>\n",
       "      <td>1.962563</td>\n",
       "      <td>-0.608577</td>\n",
       "      <td>0.509928</td>\n",
       "      <td>1.113981</td>\n",
       "      <td>2.897849</td>\n",
       "      <td>0.127434</td>\n",
       "      <td>0.265245</td>\n",
       "      <td>0.800049</td>\n",
       "      <td>-0.163298</td>\n",
       "      <td>0.123205</td>\n",
       "      <td>-0.569159</td>\n",
       "      <td>0.546668</td>\n",
       "      <td>0.108821</td>\n",
       "      <td>0.104533</td>\n",
       "      <td>10.00</td>\n",
       "      <td>0</td>\n",
       "    </tr>\n",
       "    <tr>\n",
       "      <th>284806</th>\n",
       "      <td>172792.0</td>\n",
       "      <td>-0.533413</td>\n",
       "      <td>-0.189733</td>\n",
       "      <td>0.703337</td>\n",
       "      <td>-0.506271</td>\n",
       "      <td>-0.012546</td>\n",
       "      <td>-0.649617</td>\n",
       "      <td>1.577006</td>\n",
       "      <td>-0.414650</td>\n",
       "      <td>0.486180</td>\n",
       "      <td>-0.915427</td>\n",
       "      <td>-1.040458</td>\n",
       "      <td>-0.031513</td>\n",
       "      <td>-0.188093</td>\n",
       "      <td>-0.084316</td>\n",
       "      <td>0.041333</td>\n",
       "      <td>-0.302620</td>\n",
       "      <td>-0.660377</td>\n",
       "      <td>0.167430</td>\n",
       "      <td>-0.256117</td>\n",
       "      <td>0.382948</td>\n",
       "      <td>0.261057</td>\n",
       "      <td>0.643078</td>\n",
       "      <td>0.376777</td>\n",
       "      <td>0.008797</td>\n",
       "      <td>-0.473649</td>\n",
       "      <td>-0.818267</td>\n",
       "      <td>-0.002415</td>\n",
       "      <td>0.013649</td>\n",
       "      <td>217.00</td>\n",
       "      <td>0</td>\n",
       "    </tr>\n",
       "  </tbody>\n",
       "</table>\n",
       "</div>"
      ],
      "text/plain": [
       "            Time         V1         V2        V3        V4        V5  \\\n",
       "284802  172786.0 -11.881118  10.071785 -9.834783 -2.066656 -5.364473   \n",
       "284803  172787.0  -0.732789  -0.055080  2.035030 -0.738589  0.868229   \n",
       "284804  172788.0   1.919565  -0.301254 -3.249640 -0.557828  2.630515   \n",
       "284805  172788.0  -0.240440   0.530483  0.702510  0.689799 -0.377961   \n",
       "284806  172792.0  -0.533413  -0.189733  0.703337 -0.506271 -0.012546   \n",
       "\n",
       "              V6        V7        V8        V9       V10       V11       V12  \\\n",
       "284802 -2.606837 -4.918215  7.305334  1.914428  4.356170 -1.593105  2.711941   \n",
       "284803  1.058415  0.024330  0.294869  0.584800 -0.975926 -0.150189  0.915802   \n",
       "284804  3.031260 -0.296827  0.708417  0.432454 -0.484782  0.411614  0.063119   \n",
       "284805  0.623708 -0.686180  0.679145  0.392087 -0.399126 -1.933849 -0.962886   \n",
       "284806 -0.649617  1.577006 -0.414650  0.486180 -0.915427 -1.040458 -0.031513   \n",
       "\n",
       "             V13       V14       V15       V16       V17       V18       V19  \\\n",
       "284802 -0.689256  4.626942 -0.924459  1.107641  1.991691  0.510632 -0.682920   \n",
       "284803  1.214756 -0.675143  1.164931 -0.711757 -0.025693 -1.221179 -1.545556   \n",
       "284804 -0.183699 -0.510602  1.329284  0.140716  0.313502  0.395652 -0.577252   \n",
       "284805 -1.042082  0.449624  1.962563 -0.608577  0.509928  1.113981  2.897849   \n",
       "284806 -0.188093 -0.084316  0.041333 -0.302620 -0.660377  0.167430 -0.256117   \n",
       "\n",
       "             V20       V21       V22       V23       V24       V25       V26  \\\n",
       "284802  1.475829  0.213454  0.111864  1.014480 -0.509348  1.436807  0.250034   \n",
       "284803  0.059616  0.214205  0.924384  0.012463 -1.016226 -0.606624 -0.395255   \n",
       "284804  0.001396  0.232045  0.578229 -0.037501  0.640134  0.265745 -0.087371   \n",
       "284805  0.127434  0.265245  0.800049 -0.163298  0.123205 -0.569159  0.546668   \n",
       "284806  0.382948  0.261057  0.643078  0.376777  0.008797 -0.473649 -0.818267   \n",
       "\n",
       "             V27       V28  Amount  Class  \n",
       "284802  0.943651  0.823731    0.77      0  \n",
       "284803  0.068472 -0.053527   24.79      0  \n",
       "284804  0.004455 -0.026561   67.88      0  \n",
       "284805  0.108821  0.104533   10.00      0  \n",
       "284806 -0.002415  0.013649  217.00      0  "
      ]
     },
     "execution_count": 7,
     "metadata": {},
     "output_type": "execute_result"
    }
   ],
   "source": [
    "data.tail()"
   ]
  },
  {
   "cell_type": "code",
   "execution_count": 8,
   "id": "3c574afa",
   "metadata": {
    "execution": {
     "iopub.execute_input": "2024-07-06T08:21:45.792301Z",
     "iopub.status.busy": "2024-07-06T08:21:45.791850Z",
     "iopub.status.idle": "2024-07-06T08:21:45.799218Z",
     "shell.execute_reply": "2024-07-06T08:21:45.798037Z"
    },
    "papermill": {
     "duration": 0.029503,
     "end_time": "2024-07-06T08:21:45.801540",
     "exception": false,
     "start_time": "2024-07-06T08:21:45.772037",
     "status": "completed"
    },
    "tags": []
   },
   "outputs": [
    {
     "data": {
      "text/plain": [
       "(284807, 31)"
      ]
     },
     "execution_count": 8,
     "metadata": {},
     "output_type": "execute_result"
    }
   ],
   "source": [
    "data.shape"
   ]
  },
  {
   "cell_type": "code",
   "execution_count": 9,
   "id": "87717b64",
   "metadata": {
    "execution": {
     "iopub.execute_input": "2024-07-06T08:21:45.841274Z",
     "iopub.status.busy": "2024-07-06T08:21:45.840492Z",
     "iopub.status.idle": "2024-07-06T08:21:45.847265Z",
     "shell.execute_reply": "2024-07-06T08:21:45.845985Z"
    },
    "papermill": {
     "duration": 0.029833,
     "end_time": "2024-07-06T08:21:45.850169",
     "exception": false,
     "start_time": "2024-07-06T08:21:45.820336",
     "status": "completed"
    },
    "tags": []
   },
   "outputs": [
    {
     "name": "stdout",
     "output_type": "stream",
     "text": [
      "Number of columns: 31\n",
      "Number of rows: 284807\n"
     ]
    }
   ],
   "source": [
    "print(\"Number of columns: {}\".format(data.shape[1]))\n",
    "print(\"Number of rows: {}\".format(data.shape[0]))"
   ]
  },
  {
   "cell_type": "code",
   "execution_count": 10,
   "id": "97a852a8",
   "metadata": {
    "execution": {
     "iopub.execute_input": "2024-07-06T08:21:45.899440Z",
     "iopub.status.busy": "2024-07-06T08:21:45.899050Z",
     "iopub.status.idle": "2024-07-06T08:21:45.942925Z",
     "shell.execute_reply": "2024-07-06T08:21:45.941390Z"
    },
    "papermill": {
     "duration": 0.068987,
     "end_time": "2024-07-06T08:21:45.946104",
     "exception": false,
     "start_time": "2024-07-06T08:21:45.877117",
     "status": "completed"
    },
    "tags": []
   },
   "outputs": [
    {
     "name": "stdout",
     "output_type": "stream",
     "text": [
      "<class 'pandas.core.frame.DataFrame'>\n",
      "RangeIndex: 284807 entries, 0 to 284806\n",
      "Data columns (total 31 columns):\n",
      " #   Column  Non-Null Count   Dtype  \n",
      "---  ------  --------------   -----  \n",
      " 0   Time    284807 non-null  float64\n",
      " 1   V1      284807 non-null  float64\n",
      " 2   V2      284807 non-null  float64\n",
      " 3   V3      284807 non-null  float64\n",
      " 4   V4      284807 non-null  float64\n",
      " 5   V5      284807 non-null  float64\n",
      " 6   V6      284807 non-null  float64\n",
      " 7   V7      284807 non-null  float64\n",
      " 8   V8      284807 non-null  float64\n",
      " 9   V9      284807 non-null  float64\n",
      " 10  V10     284807 non-null  float64\n",
      " 11  V11     284807 non-null  float64\n",
      " 12  V12     284807 non-null  float64\n",
      " 13  V13     284807 non-null  float64\n",
      " 14  V14     284807 non-null  float64\n",
      " 15  V15     284807 non-null  float64\n",
      " 16  V16     284807 non-null  float64\n",
      " 17  V17     284807 non-null  float64\n",
      " 18  V18     284807 non-null  float64\n",
      " 19  V19     284807 non-null  float64\n",
      " 20  V20     284807 non-null  float64\n",
      " 21  V21     284807 non-null  float64\n",
      " 22  V22     284807 non-null  float64\n",
      " 23  V23     284807 non-null  float64\n",
      " 24  V24     284807 non-null  float64\n",
      " 25  V25     284807 non-null  float64\n",
      " 26  V26     284807 non-null  float64\n",
      " 27  V27     284807 non-null  float64\n",
      " 28  V28     284807 non-null  float64\n",
      " 29  Amount  284807 non-null  float64\n",
      " 30  Class   284807 non-null  int64  \n",
      "dtypes: float64(30), int64(1)\n",
      "memory usage: 67.4 MB\n"
     ]
    }
   ],
   "source": [
    "data.info()"
   ]
  },
  {
   "cell_type": "code",
   "execution_count": 11,
   "id": "f345aa06",
   "metadata": {
    "execution": {
     "iopub.execute_input": "2024-07-06T08:21:45.990257Z",
     "iopub.status.busy": "2024-07-06T08:21:45.989166Z",
     "iopub.status.idle": "2024-07-06T08:21:46.012224Z",
     "shell.execute_reply": "2024-07-06T08:21:46.011045Z"
    },
    "papermill": {
     "duration": 0.046193,
     "end_time": "2024-07-06T08:21:46.015003",
     "exception": false,
     "start_time": "2024-07-06T08:21:45.968810",
     "status": "completed"
    },
    "tags": []
   },
   "outputs": [
    {
     "data": {
      "text/plain": [
       "Time      0\n",
       "V1        0\n",
       "V2        0\n",
       "V3        0\n",
       "V4        0\n",
       "V5        0\n",
       "V6        0\n",
       "V7        0\n",
       "V8        0\n",
       "V9        0\n",
       "V10       0\n",
       "V11       0\n",
       "V12       0\n",
       "V13       0\n",
       "V14       0\n",
       "V15       0\n",
       "V16       0\n",
       "V17       0\n",
       "V18       0\n",
       "V19       0\n",
       "V20       0\n",
       "V21       0\n",
       "V22       0\n",
       "V23       0\n",
       "V24       0\n",
       "V25       0\n",
       "V26       0\n",
       "V27       0\n",
       "V28       0\n",
       "Amount    0\n",
       "Class     0\n",
       "dtype: int64"
      ]
     },
     "execution_count": 11,
     "metadata": {},
     "output_type": "execute_result"
    }
   ],
   "source": [
    "data.isnull().sum()"
   ]
  },
  {
   "cell_type": "code",
   "execution_count": 12,
   "id": "21f50019",
   "metadata": {
    "execution": {
     "iopub.execute_input": "2024-07-06T08:21:46.054644Z",
     "iopub.status.busy": "2024-07-06T08:21:46.054172Z",
     "iopub.status.idle": "2024-07-06T08:21:47.330167Z",
     "shell.execute_reply": "2024-07-06T08:21:47.328975Z"
    },
    "papermill": {
     "duration": 1.299264,
     "end_time": "2024-07-06T08:21:47.333097",
     "exception": false,
     "start_time": "2024-07-06T08:21:46.033833",
     "status": "completed"
    },
    "tags": []
   },
   "outputs": [],
   "source": [
    "from sklearn.preprocessing import StandardScaler"
   ]
  },
  {
   "cell_type": "code",
   "execution_count": 13,
   "id": "b7c01493",
   "metadata": {
    "execution": {
     "iopub.execute_input": "2024-07-06T08:21:47.373388Z",
     "iopub.status.busy": "2024-07-06T08:21:47.372558Z",
     "iopub.status.idle": "2024-07-06T08:21:47.385664Z",
     "shell.execute_reply": "2024-07-06T08:21:47.384480Z"
    },
    "papermill": {
     "duration": 0.036374,
     "end_time": "2024-07-06T08:21:47.388436",
     "exception": false,
     "start_time": "2024-07-06T08:21:47.352062",
     "status": "completed"
    },
    "tags": []
   },
   "outputs": [],
   "source": [
    "sc = StandardScaler()\n",
    "data['Amount'] = sc.fit_transform(pd.DataFrame(data['Amount']))"
   ]
  },
  {
   "cell_type": "code",
   "execution_count": 14,
   "id": "28de59b9",
   "metadata": {
    "execution": {
     "iopub.execute_input": "2024-07-06T08:21:47.428476Z",
     "iopub.status.busy": "2024-07-06T08:21:47.428064Z",
     "iopub.status.idle": "2024-07-06T08:21:47.463456Z",
     "shell.execute_reply": "2024-07-06T08:21:47.462288Z"
    },
    "papermill": {
     "duration": 0.059,
     "end_time": "2024-07-06T08:21:47.466277",
     "exception": false,
     "start_time": "2024-07-06T08:21:47.407277",
     "status": "completed"
    },
    "tags": []
   },
   "outputs": [
    {
     "data": {
      "text/html": [
       "<div>\n",
       "<style scoped>\n",
       "    .dataframe tbody tr th:only-of-type {\n",
       "        vertical-align: middle;\n",
       "    }\n",
       "\n",
       "    .dataframe tbody tr th {\n",
       "        vertical-align: top;\n",
       "    }\n",
       "\n",
       "    .dataframe thead th {\n",
       "        text-align: right;\n",
       "    }\n",
       "</style>\n",
       "<table border=\"1\" class=\"dataframe\">\n",
       "  <thead>\n",
       "    <tr style=\"text-align: right;\">\n",
       "      <th></th>\n",
       "      <th>Time</th>\n",
       "      <th>V1</th>\n",
       "      <th>V2</th>\n",
       "      <th>V3</th>\n",
       "      <th>V4</th>\n",
       "      <th>V5</th>\n",
       "      <th>V6</th>\n",
       "      <th>V7</th>\n",
       "      <th>V8</th>\n",
       "      <th>V9</th>\n",
       "      <th>V10</th>\n",
       "      <th>V11</th>\n",
       "      <th>V12</th>\n",
       "      <th>V13</th>\n",
       "      <th>V14</th>\n",
       "      <th>V15</th>\n",
       "      <th>V16</th>\n",
       "      <th>V17</th>\n",
       "      <th>V18</th>\n",
       "      <th>V19</th>\n",
       "      <th>V20</th>\n",
       "      <th>V21</th>\n",
       "      <th>V22</th>\n",
       "      <th>V23</th>\n",
       "      <th>V24</th>\n",
       "      <th>V25</th>\n",
       "      <th>V26</th>\n",
       "      <th>V27</th>\n",
       "      <th>V28</th>\n",
       "      <th>Amount</th>\n",
       "      <th>Class</th>\n",
       "    </tr>\n",
       "  </thead>\n",
       "  <tbody>\n",
       "    <tr>\n",
       "      <th>0</th>\n",
       "      <td>0.0</td>\n",
       "      <td>-1.359807</td>\n",
       "      <td>-0.072781</td>\n",
       "      <td>2.536347</td>\n",
       "      <td>1.378155</td>\n",
       "      <td>-0.338321</td>\n",
       "      <td>0.462388</td>\n",
       "      <td>0.239599</td>\n",
       "      <td>0.098698</td>\n",
       "      <td>0.363787</td>\n",
       "      <td>0.090794</td>\n",
       "      <td>-0.551600</td>\n",
       "      <td>-0.617801</td>\n",
       "      <td>-0.991390</td>\n",
       "      <td>-0.311169</td>\n",
       "      <td>1.468177</td>\n",
       "      <td>-0.470401</td>\n",
       "      <td>0.207971</td>\n",
       "      <td>0.025791</td>\n",
       "      <td>0.403993</td>\n",
       "      <td>0.251412</td>\n",
       "      <td>-0.018307</td>\n",
       "      <td>0.277838</td>\n",
       "      <td>-0.110474</td>\n",
       "      <td>0.066928</td>\n",
       "      <td>0.128539</td>\n",
       "      <td>-0.189115</td>\n",
       "      <td>0.133558</td>\n",
       "      <td>-0.021053</td>\n",
       "      <td>0.244964</td>\n",
       "      <td>0</td>\n",
       "    </tr>\n",
       "    <tr>\n",
       "      <th>1</th>\n",
       "      <td>0.0</td>\n",
       "      <td>1.191857</td>\n",
       "      <td>0.266151</td>\n",
       "      <td>0.166480</td>\n",
       "      <td>0.448154</td>\n",
       "      <td>0.060018</td>\n",
       "      <td>-0.082361</td>\n",
       "      <td>-0.078803</td>\n",
       "      <td>0.085102</td>\n",
       "      <td>-0.255425</td>\n",
       "      <td>-0.166974</td>\n",
       "      <td>1.612727</td>\n",
       "      <td>1.065235</td>\n",
       "      <td>0.489095</td>\n",
       "      <td>-0.143772</td>\n",
       "      <td>0.635558</td>\n",
       "      <td>0.463917</td>\n",
       "      <td>-0.114805</td>\n",
       "      <td>-0.183361</td>\n",
       "      <td>-0.145783</td>\n",
       "      <td>-0.069083</td>\n",
       "      <td>-0.225775</td>\n",
       "      <td>-0.638672</td>\n",
       "      <td>0.101288</td>\n",
       "      <td>-0.339846</td>\n",
       "      <td>0.167170</td>\n",
       "      <td>0.125895</td>\n",
       "      <td>-0.008983</td>\n",
       "      <td>0.014724</td>\n",
       "      <td>-0.342475</td>\n",
       "      <td>0</td>\n",
       "    </tr>\n",
       "    <tr>\n",
       "      <th>2</th>\n",
       "      <td>1.0</td>\n",
       "      <td>-1.358354</td>\n",
       "      <td>-1.340163</td>\n",
       "      <td>1.773209</td>\n",
       "      <td>0.379780</td>\n",
       "      <td>-0.503198</td>\n",
       "      <td>1.800499</td>\n",
       "      <td>0.791461</td>\n",
       "      <td>0.247676</td>\n",
       "      <td>-1.514654</td>\n",
       "      <td>0.207643</td>\n",
       "      <td>0.624501</td>\n",
       "      <td>0.066084</td>\n",
       "      <td>0.717293</td>\n",
       "      <td>-0.165946</td>\n",
       "      <td>2.345865</td>\n",
       "      <td>-2.890083</td>\n",
       "      <td>1.109969</td>\n",
       "      <td>-0.121359</td>\n",
       "      <td>-2.261857</td>\n",
       "      <td>0.524980</td>\n",
       "      <td>0.247998</td>\n",
       "      <td>0.771679</td>\n",
       "      <td>0.909412</td>\n",
       "      <td>-0.689281</td>\n",
       "      <td>-0.327642</td>\n",
       "      <td>-0.139097</td>\n",
       "      <td>-0.055353</td>\n",
       "      <td>-0.059752</td>\n",
       "      <td>1.160686</td>\n",
       "      <td>0</td>\n",
       "    </tr>\n",
       "    <tr>\n",
       "      <th>3</th>\n",
       "      <td>1.0</td>\n",
       "      <td>-0.966272</td>\n",
       "      <td>-0.185226</td>\n",
       "      <td>1.792993</td>\n",
       "      <td>-0.863291</td>\n",
       "      <td>-0.010309</td>\n",
       "      <td>1.247203</td>\n",
       "      <td>0.237609</td>\n",
       "      <td>0.377436</td>\n",
       "      <td>-1.387024</td>\n",
       "      <td>-0.054952</td>\n",
       "      <td>-0.226487</td>\n",
       "      <td>0.178228</td>\n",
       "      <td>0.507757</td>\n",
       "      <td>-0.287924</td>\n",
       "      <td>-0.631418</td>\n",
       "      <td>-1.059647</td>\n",
       "      <td>-0.684093</td>\n",
       "      <td>1.965775</td>\n",
       "      <td>-1.232622</td>\n",
       "      <td>-0.208038</td>\n",
       "      <td>-0.108300</td>\n",
       "      <td>0.005274</td>\n",
       "      <td>-0.190321</td>\n",
       "      <td>-1.175575</td>\n",
       "      <td>0.647376</td>\n",
       "      <td>-0.221929</td>\n",
       "      <td>0.062723</td>\n",
       "      <td>0.061458</td>\n",
       "      <td>0.140534</td>\n",
       "      <td>0</td>\n",
       "    </tr>\n",
       "    <tr>\n",
       "      <th>4</th>\n",
       "      <td>2.0</td>\n",
       "      <td>-1.158233</td>\n",
       "      <td>0.877737</td>\n",
       "      <td>1.548718</td>\n",
       "      <td>0.403034</td>\n",
       "      <td>-0.407193</td>\n",
       "      <td>0.095921</td>\n",
       "      <td>0.592941</td>\n",
       "      <td>-0.270533</td>\n",
       "      <td>0.817739</td>\n",
       "      <td>0.753074</td>\n",
       "      <td>-0.822843</td>\n",
       "      <td>0.538196</td>\n",
       "      <td>1.345852</td>\n",
       "      <td>-1.119670</td>\n",
       "      <td>0.175121</td>\n",
       "      <td>-0.451449</td>\n",
       "      <td>-0.237033</td>\n",
       "      <td>-0.038195</td>\n",
       "      <td>0.803487</td>\n",
       "      <td>0.408542</td>\n",
       "      <td>-0.009431</td>\n",
       "      <td>0.798278</td>\n",
       "      <td>-0.137458</td>\n",
       "      <td>0.141267</td>\n",
       "      <td>-0.206010</td>\n",
       "      <td>0.502292</td>\n",
       "      <td>0.219422</td>\n",
       "      <td>0.215153</td>\n",
       "      <td>-0.073403</td>\n",
       "      <td>0</td>\n",
       "    </tr>\n",
       "  </tbody>\n",
       "</table>\n",
       "</div>"
      ],
      "text/plain": [
       "   Time        V1        V2        V3        V4        V5        V6        V7  \\\n",
       "0   0.0 -1.359807 -0.072781  2.536347  1.378155 -0.338321  0.462388  0.239599   \n",
       "1   0.0  1.191857  0.266151  0.166480  0.448154  0.060018 -0.082361 -0.078803   \n",
       "2   1.0 -1.358354 -1.340163  1.773209  0.379780 -0.503198  1.800499  0.791461   \n",
       "3   1.0 -0.966272 -0.185226  1.792993 -0.863291 -0.010309  1.247203  0.237609   \n",
       "4   2.0 -1.158233  0.877737  1.548718  0.403034 -0.407193  0.095921  0.592941   \n",
       "\n",
       "         V8        V9       V10       V11       V12       V13       V14  \\\n",
       "0  0.098698  0.363787  0.090794 -0.551600 -0.617801 -0.991390 -0.311169   \n",
       "1  0.085102 -0.255425 -0.166974  1.612727  1.065235  0.489095 -0.143772   \n",
       "2  0.247676 -1.514654  0.207643  0.624501  0.066084  0.717293 -0.165946   \n",
       "3  0.377436 -1.387024 -0.054952 -0.226487  0.178228  0.507757 -0.287924   \n",
       "4 -0.270533  0.817739  0.753074 -0.822843  0.538196  1.345852 -1.119670   \n",
       "\n",
       "        V15       V16       V17       V18       V19       V20       V21  \\\n",
       "0  1.468177 -0.470401  0.207971  0.025791  0.403993  0.251412 -0.018307   \n",
       "1  0.635558  0.463917 -0.114805 -0.183361 -0.145783 -0.069083 -0.225775   \n",
       "2  2.345865 -2.890083  1.109969 -0.121359 -2.261857  0.524980  0.247998   \n",
       "3 -0.631418 -1.059647 -0.684093  1.965775 -1.232622 -0.208038 -0.108300   \n",
       "4  0.175121 -0.451449 -0.237033 -0.038195  0.803487  0.408542 -0.009431   \n",
       "\n",
       "        V22       V23       V24       V25       V26       V27       V28  \\\n",
       "0  0.277838 -0.110474  0.066928  0.128539 -0.189115  0.133558 -0.021053   \n",
       "1 -0.638672  0.101288 -0.339846  0.167170  0.125895 -0.008983  0.014724   \n",
       "2  0.771679  0.909412 -0.689281 -0.327642 -0.139097 -0.055353 -0.059752   \n",
       "3  0.005274 -0.190321 -1.175575  0.647376 -0.221929  0.062723  0.061458   \n",
       "4  0.798278 -0.137458  0.141267 -0.206010  0.502292  0.219422  0.215153   \n",
       "\n",
       "     Amount  Class  \n",
       "0  0.244964      0  \n",
       "1 -0.342475      0  \n",
       "2  1.160686      0  \n",
       "3  0.140534      0  \n",
       "4 -0.073403      0  "
      ]
     },
     "execution_count": 14,
     "metadata": {},
     "output_type": "execute_result"
    }
   ],
   "source": [
    "data.head()"
   ]
  },
  {
   "cell_type": "code",
   "execution_count": 15,
   "id": "a7392e34",
   "metadata": {
    "execution": {
     "iopub.execute_input": "2024-07-06T08:21:47.507262Z",
     "iopub.status.busy": "2024-07-06T08:21:47.506373Z",
     "iopub.status.idle": "2024-07-06T08:21:47.540986Z",
     "shell.execute_reply": "2024-07-06T08:21:47.539402Z"
    },
    "papermill": {
     "duration": 0.058311,
     "end_time": "2024-07-06T08:21:47.543872",
     "exception": false,
     "start_time": "2024-07-06T08:21:47.485561",
     "status": "completed"
    },
    "tags": []
   },
   "outputs": [],
   "source": [
    "data = data.drop(['Time'], axis =1)"
   ]
  },
  {
   "cell_type": "code",
   "execution_count": 16,
   "id": "5ac12fe3",
   "metadata": {
    "execution": {
     "iopub.execute_input": "2024-07-06T08:21:47.585249Z",
     "iopub.status.busy": "2024-07-06T08:21:47.584855Z",
     "iopub.status.idle": "2024-07-06T08:21:47.619178Z",
     "shell.execute_reply": "2024-07-06T08:21:47.617978Z"
    },
    "papermill": {
     "duration": 0.058363,
     "end_time": "2024-07-06T08:21:47.621857",
     "exception": false,
     "start_time": "2024-07-06T08:21:47.563494",
     "status": "completed"
    },
    "tags": []
   },
   "outputs": [
    {
     "data": {
      "text/html": [
       "<div>\n",
       "<style scoped>\n",
       "    .dataframe tbody tr th:only-of-type {\n",
       "        vertical-align: middle;\n",
       "    }\n",
       "\n",
       "    .dataframe tbody tr th {\n",
       "        vertical-align: top;\n",
       "    }\n",
       "\n",
       "    .dataframe thead th {\n",
       "        text-align: right;\n",
       "    }\n",
       "</style>\n",
       "<table border=\"1\" class=\"dataframe\">\n",
       "  <thead>\n",
       "    <tr style=\"text-align: right;\">\n",
       "      <th></th>\n",
       "      <th>V1</th>\n",
       "      <th>V2</th>\n",
       "      <th>V3</th>\n",
       "      <th>V4</th>\n",
       "      <th>V5</th>\n",
       "      <th>V6</th>\n",
       "      <th>V7</th>\n",
       "      <th>V8</th>\n",
       "      <th>V9</th>\n",
       "      <th>V10</th>\n",
       "      <th>V11</th>\n",
       "      <th>V12</th>\n",
       "      <th>V13</th>\n",
       "      <th>V14</th>\n",
       "      <th>V15</th>\n",
       "      <th>V16</th>\n",
       "      <th>V17</th>\n",
       "      <th>V18</th>\n",
       "      <th>V19</th>\n",
       "      <th>V20</th>\n",
       "      <th>V21</th>\n",
       "      <th>V22</th>\n",
       "      <th>V23</th>\n",
       "      <th>V24</th>\n",
       "      <th>V25</th>\n",
       "      <th>V26</th>\n",
       "      <th>V27</th>\n",
       "      <th>V28</th>\n",
       "      <th>Amount</th>\n",
       "      <th>Class</th>\n",
       "    </tr>\n",
       "  </thead>\n",
       "  <tbody>\n",
       "    <tr>\n",
       "      <th>0</th>\n",
       "      <td>-1.359807</td>\n",
       "      <td>-0.072781</td>\n",
       "      <td>2.536347</td>\n",
       "      <td>1.378155</td>\n",
       "      <td>-0.338321</td>\n",
       "      <td>0.462388</td>\n",
       "      <td>0.239599</td>\n",
       "      <td>0.098698</td>\n",
       "      <td>0.363787</td>\n",
       "      <td>0.090794</td>\n",
       "      <td>-0.551600</td>\n",
       "      <td>-0.617801</td>\n",
       "      <td>-0.991390</td>\n",
       "      <td>-0.311169</td>\n",
       "      <td>1.468177</td>\n",
       "      <td>-0.470401</td>\n",
       "      <td>0.207971</td>\n",
       "      <td>0.025791</td>\n",
       "      <td>0.403993</td>\n",
       "      <td>0.251412</td>\n",
       "      <td>-0.018307</td>\n",
       "      <td>0.277838</td>\n",
       "      <td>-0.110474</td>\n",
       "      <td>0.066928</td>\n",
       "      <td>0.128539</td>\n",
       "      <td>-0.189115</td>\n",
       "      <td>0.133558</td>\n",
       "      <td>-0.021053</td>\n",
       "      <td>0.244964</td>\n",
       "      <td>0</td>\n",
       "    </tr>\n",
       "    <tr>\n",
       "      <th>1</th>\n",
       "      <td>1.191857</td>\n",
       "      <td>0.266151</td>\n",
       "      <td>0.166480</td>\n",
       "      <td>0.448154</td>\n",
       "      <td>0.060018</td>\n",
       "      <td>-0.082361</td>\n",
       "      <td>-0.078803</td>\n",
       "      <td>0.085102</td>\n",
       "      <td>-0.255425</td>\n",
       "      <td>-0.166974</td>\n",
       "      <td>1.612727</td>\n",
       "      <td>1.065235</td>\n",
       "      <td>0.489095</td>\n",
       "      <td>-0.143772</td>\n",
       "      <td>0.635558</td>\n",
       "      <td>0.463917</td>\n",
       "      <td>-0.114805</td>\n",
       "      <td>-0.183361</td>\n",
       "      <td>-0.145783</td>\n",
       "      <td>-0.069083</td>\n",
       "      <td>-0.225775</td>\n",
       "      <td>-0.638672</td>\n",
       "      <td>0.101288</td>\n",
       "      <td>-0.339846</td>\n",
       "      <td>0.167170</td>\n",
       "      <td>0.125895</td>\n",
       "      <td>-0.008983</td>\n",
       "      <td>0.014724</td>\n",
       "      <td>-0.342475</td>\n",
       "      <td>0</td>\n",
       "    </tr>\n",
       "    <tr>\n",
       "      <th>2</th>\n",
       "      <td>-1.358354</td>\n",
       "      <td>-1.340163</td>\n",
       "      <td>1.773209</td>\n",
       "      <td>0.379780</td>\n",
       "      <td>-0.503198</td>\n",
       "      <td>1.800499</td>\n",
       "      <td>0.791461</td>\n",
       "      <td>0.247676</td>\n",
       "      <td>-1.514654</td>\n",
       "      <td>0.207643</td>\n",
       "      <td>0.624501</td>\n",
       "      <td>0.066084</td>\n",
       "      <td>0.717293</td>\n",
       "      <td>-0.165946</td>\n",
       "      <td>2.345865</td>\n",
       "      <td>-2.890083</td>\n",
       "      <td>1.109969</td>\n",
       "      <td>-0.121359</td>\n",
       "      <td>-2.261857</td>\n",
       "      <td>0.524980</td>\n",
       "      <td>0.247998</td>\n",
       "      <td>0.771679</td>\n",
       "      <td>0.909412</td>\n",
       "      <td>-0.689281</td>\n",
       "      <td>-0.327642</td>\n",
       "      <td>-0.139097</td>\n",
       "      <td>-0.055353</td>\n",
       "      <td>-0.059752</td>\n",
       "      <td>1.160686</td>\n",
       "      <td>0</td>\n",
       "    </tr>\n",
       "    <tr>\n",
       "      <th>3</th>\n",
       "      <td>-0.966272</td>\n",
       "      <td>-0.185226</td>\n",
       "      <td>1.792993</td>\n",
       "      <td>-0.863291</td>\n",
       "      <td>-0.010309</td>\n",
       "      <td>1.247203</td>\n",
       "      <td>0.237609</td>\n",
       "      <td>0.377436</td>\n",
       "      <td>-1.387024</td>\n",
       "      <td>-0.054952</td>\n",
       "      <td>-0.226487</td>\n",
       "      <td>0.178228</td>\n",
       "      <td>0.507757</td>\n",
       "      <td>-0.287924</td>\n",
       "      <td>-0.631418</td>\n",
       "      <td>-1.059647</td>\n",
       "      <td>-0.684093</td>\n",
       "      <td>1.965775</td>\n",
       "      <td>-1.232622</td>\n",
       "      <td>-0.208038</td>\n",
       "      <td>-0.108300</td>\n",
       "      <td>0.005274</td>\n",
       "      <td>-0.190321</td>\n",
       "      <td>-1.175575</td>\n",
       "      <td>0.647376</td>\n",
       "      <td>-0.221929</td>\n",
       "      <td>0.062723</td>\n",
       "      <td>0.061458</td>\n",
       "      <td>0.140534</td>\n",
       "      <td>0</td>\n",
       "    </tr>\n",
       "    <tr>\n",
       "      <th>4</th>\n",
       "      <td>-1.158233</td>\n",
       "      <td>0.877737</td>\n",
       "      <td>1.548718</td>\n",
       "      <td>0.403034</td>\n",
       "      <td>-0.407193</td>\n",
       "      <td>0.095921</td>\n",
       "      <td>0.592941</td>\n",
       "      <td>-0.270533</td>\n",
       "      <td>0.817739</td>\n",
       "      <td>0.753074</td>\n",
       "      <td>-0.822843</td>\n",
       "      <td>0.538196</td>\n",
       "      <td>1.345852</td>\n",
       "      <td>-1.119670</td>\n",
       "      <td>0.175121</td>\n",
       "      <td>-0.451449</td>\n",
       "      <td>-0.237033</td>\n",
       "      <td>-0.038195</td>\n",
       "      <td>0.803487</td>\n",
       "      <td>0.408542</td>\n",
       "      <td>-0.009431</td>\n",
       "      <td>0.798278</td>\n",
       "      <td>-0.137458</td>\n",
       "      <td>0.141267</td>\n",
       "      <td>-0.206010</td>\n",
       "      <td>0.502292</td>\n",
       "      <td>0.219422</td>\n",
       "      <td>0.215153</td>\n",
       "      <td>-0.073403</td>\n",
       "      <td>0</td>\n",
       "    </tr>\n",
       "  </tbody>\n",
       "</table>\n",
       "</div>"
      ],
      "text/plain": [
       "         V1        V2        V3        V4        V5        V6        V7  \\\n",
       "0 -1.359807 -0.072781  2.536347  1.378155 -0.338321  0.462388  0.239599   \n",
       "1  1.191857  0.266151  0.166480  0.448154  0.060018 -0.082361 -0.078803   \n",
       "2 -1.358354 -1.340163  1.773209  0.379780 -0.503198  1.800499  0.791461   \n",
       "3 -0.966272 -0.185226  1.792993 -0.863291 -0.010309  1.247203  0.237609   \n",
       "4 -1.158233  0.877737  1.548718  0.403034 -0.407193  0.095921  0.592941   \n",
       "\n",
       "         V8        V9       V10       V11       V12       V13       V14  \\\n",
       "0  0.098698  0.363787  0.090794 -0.551600 -0.617801 -0.991390 -0.311169   \n",
       "1  0.085102 -0.255425 -0.166974  1.612727  1.065235  0.489095 -0.143772   \n",
       "2  0.247676 -1.514654  0.207643  0.624501  0.066084  0.717293 -0.165946   \n",
       "3  0.377436 -1.387024 -0.054952 -0.226487  0.178228  0.507757 -0.287924   \n",
       "4 -0.270533  0.817739  0.753074 -0.822843  0.538196  1.345852 -1.119670   \n",
       "\n",
       "        V15       V16       V17       V18       V19       V20       V21  \\\n",
       "0  1.468177 -0.470401  0.207971  0.025791  0.403993  0.251412 -0.018307   \n",
       "1  0.635558  0.463917 -0.114805 -0.183361 -0.145783 -0.069083 -0.225775   \n",
       "2  2.345865 -2.890083  1.109969 -0.121359 -2.261857  0.524980  0.247998   \n",
       "3 -0.631418 -1.059647 -0.684093  1.965775 -1.232622 -0.208038 -0.108300   \n",
       "4  0.175121 -0.451449 -0.237033 -0.038195  0.803487  0.408542 -0.009431   \n",
       "\n",
       "        V22       V23       V24       V25       V26       V27       V28  \\\n",
       "0  0.277838 -0.110474  0.066928  0.128539 -0.189115  0.133558 -0.021053   \n",
       "1 -0.638672  0.101288 -0.339846  0.167170  0.125895 -0.008983  0.014724   \n",
       "2  0.771679  0.909412 -0.689281 -0.327642 -0.139097 -0.055353 -0.059752   \n",
       "3  0.005274 -0.190321 -1.175575  0.647376 -0.221929  0.062723  0.061458   \n",
       "4  0.798278 -0.137458  0.141267 -0.206010  0.502292  0.219422  0.215153   \n",
       "\n",
       "     Amount  Class  \n",
       "0  0.244964      0  \n",
       "1 -0.342475      0  \n",
       "2  1.160686      0  \n",
       "3  0.140534      0  \n",
       "4 -0.073403      0  "
      ]
     },
     "execution_count": 16,
     "metadata": {},
     "output_type": "execute_result"
    }
   ],
   "source": [
    "data.head()"
   ]
  },
  {
   "cell_type": "code",
   "execution_count": 17,
   "id": "ed9a10b6",
   "metadata": {
    "execution": {
     "iopub.execute_input": "2024-07-06T08:21:47.663218Z",
     "iopub.status.busy": "2024-07-06T08:21:47.662779Z",
     "iopub.status.idle": "2024-07-06T08:21:48.700411Z",
     "shell.execute_reply": "2024-07-06T08:21:48.699143Z"
    },
    "papermill": {
     "duration": 1.06153,
     "end_time": "2024-07-06T08:21:48.703077",
     "exception": false,
     "start_time": "2024-07-06T08:21:47.641547",
     "status": "completed"
    },
    "tags": []
   },
   "outputs": [
    {
     "data": {
      "text/plain": [
       "True"
      ]
     },
     "execution_count": 17,
     "metadata": {},
     "output_type": "execute_result"
    }
   ],
   "source": [
    "data.duplicated().any()"
   ]
  },
  {
   "cell_type": "code",
   "execution_count": 18,
   "id": "1762a62d",
   "metadata": {
    "execution": {
     "iopub.execute_input": "2024-07-06T08:21:48.745551Z",
     "iopub.status.busy": "2024-07-06T08:21:48.745097Z",
     "iopub.status.idle": "2024-07-06T08:21:49.721148Z",
     "shell.execute_reply": "2024-07-06T08:21:49.719646Z"
    },
    "papermill": {
     "duration": 1.000555,
     "end_time": "2024-07-06T08:21:49.724223",
     "exception": false,
     "start_time": "2024-07-06T08:21:48.723668",
     "status": "completed"
    },
    "tags": []
   },
   "outputs": [],
   "source": [
    "data = data.drop_duplicates()"
   ]
  },
  {
   "cell_type": "code",
   "execution_count": 19,
   "id": "3c178135",
   "metadata": {
    "execution": {
     "iopub.execute_input": "2024-07-06T08:21:49.766934Z",
     "iopub.status.busy": "2024-07-06T08:21:49.766442Z",
     "iopub.status.idle": "2024-07-06T08:21:49.774618Z",
     "shell.execute_reply": "2024-07-06T08:21:49.773300Z"
    },
    "papermill": {
     "duration": 0.033699,
     "end_time": "2024-07-06T08:21:49.777855",
     "exception": false,
     "start_time": "2024-07-06T08:21:49.744156",
     "status": "completed"
    },
    "tags": []
   },
   "outputs": [
    {
     "data": {
      "text/plain": [
       "(275663, 30)"
      ]
     },
     "execution_count": 19,
     "metadata": {},
     "output_type": "execute_result"
    }
   ],
   "source": [
    "data.shape"
   ]
  },
  {
   "cell_type": "code",
   "execution_count": 20,
   "id": "61ccae08",
   "metadata": {
    "execution": {
     "iopub.execute_input": "2024-07-06T08:21:49.822205Z",
     "iopub.status.busy": "2024-07-06T08:21:49.821735Z",
     "iopub.status.idle": "2024-07-06T08:21:49.835949Z",
     "shell.execute_reply": "2024-07-06T08:21:49.834651Z"
    },
    "papermill": {
     "duration": 0.038471,
     "end_time": "2024-07-06T08:21:49.838493",
     "exception": false,
     "start_time": "2024-07-06T08:21:49.800022",
     "status": "completed"
    },
    "tags": []
   },
   "outputs": [
    {
     "data": {
      "text/plain": [
       "Class\n",
       "0    275190\n",
       "1       473\n",
       "Name: count, dtype: int64"
      ]
     },
     "execution_count": 20,
     "metadata": {},
     "output_type": "execute_result"
    }
   ],
   "source": [
    "data['Class'].value_counts()"
   ]
  },
  {
   "cell_type": "code",
   "execution_count": 21,
   "id": "456469df",
   "metadata": {
    "execution": {
     "iopub.execute_input": "2024-07-06T08:21:49.881304Z",
     "iopub.status.busy": "2024-07-06T08:21:49.880866Z",
     "iopub.status.idle": "2024-07-06T08:21:50.324048Z",
     "shell.execute_reply": "2024-07-06T08:21:50.322793Z"
    },
    "papermill": {
     "duration": 0.467827,
     "end_time": "2024-07-06T08:21:50.326811",
     "exception": false,
     "start_time": "2024-07-06T08:21:49.858984",
     "status": "completed"
    },
    "tags": []
   },
   "outputs": [],
   "source": [
    "import seaborn as sns\n",
    "import matplotlib.pyplot as plt\n",
    "plt.style.use('ggplot')"
   ]
  },
  {
   "cell_type": "code",
   "execution_count": 22,
   "id": "465d6b5f",
   "metadata": {
    "execution": {
     "iopub.execute_input": "2024-07-06T08:21:50.369844Z",
     "iopub.status.busy": "2024-07-06T08:21:50.369414Z",
     "iopub.status.idle": "2024-07-06T08:21:50.620366Z",
     "shell.execute_reply": "2024-07-06T08:21:50.619167Z"
    },
    "papermill": {
     "duration": 0.276222,
     "end_time": "2024-07-06T08:21:50.623340",
     "exception": false,
     "start_time": "2024-07-06T08:21:50.347118",
     "status": "completed"
    },
    "tags": []
   },
   "outputs": [
    {
     "data": {
      "image/png": "[encoded data removed]",
      "text/plain": [
       "<Figure size 640x480 with 1 Axes>"
      ]
     },
     "metadata": {},
     "output_type": "display_data"
    }
   ],
   "source": [
    "sns.countplot(data['Class'])\n",
    "plt.show()"
   ]
  },
  {
   "cell_type": "code",
   "execution_count": 23,
   "id": "92c81e91",
   "metadata": {
    "execution": {
     "iopub.execute_input": "2024-07-06T08:21:50.731009Z",
     "iopub.status.busy": "2024-07-06T08:21:50.730549Z",
     "iopub.status.idle": "2024-07-06T08:21:50.766164Z",
     "shell.execute_reply": "2024-07-06T08:21:50.764783Z"
    },
    "papermill": {
     "duration": 0.123308,
     "end_time": "2024-07-06T08:21:50.769129",
     "exception": false,
     "start_time": "2024-07-06T08:21:50.645821",
     "status": "completed"
    },
    "tags": []
   },
   "outputs": [],
   "source": [
    "X = data.drop('Class', axis = 1)\n",
    "y=data['Class']"
   ]
  },
  {
   "cell_type": "code",
   "execution_count": 24,
   "id": "ce0a02c3",
   "metadata": {
    "execution": {
     "iopub.execute_input": "2024-07-06T08:21:50.813307Z",
     "iopub.status.busy": "2024-07-06T08:21:50.812396Z",
     "iopub.status.idle": "2024-07-06T08:21:50.930401Z",
     "shell.execute_reply": "2024-07-06T08:21:50.929017Z"
    },
    "papermill": {
     "duration": 0.143642,
     "end_time": "2024-07-06T08:21:50.933447",
     "exception": false,
     "start_time": "2024-07-06T08:21:50.789805",
     "status": "completed"
    },
    "tags": []
   },
   "outputs": [],
   "source": [
    "from sklearn.model_selection import train_test_split"
   ]
  },
  {
   "cell_type": "code",
   "execution_count": 25,
   "id": "e460cdcc",
   "metadata": {
    "execution": {
     "iopub.execute_input": "2024-07-06T08:21:50.978425Z",
     "iopub.status.busy": "2024-07-06T08:21:50.977562Z",
     "iopub.status.idle": "2024-07-06T08:21:51.087711Z",
     "shell.execute_reply": "2024-07-06T08:21:51.086268Z"
    },
    "papermill": {
     "duration": 0.135578,
     "end_time": "2024-07-06T08:21:51.090771",
     "exception": false,
     "start_time": "2024-07-06T08:21:50.955193",
     "status": "completed"
    },
    "tags": []
   },
   "outputs": [],
   "source": [
    "X_train, X_test, y_train, y_test = train_test_split(X, y, test_size = 0.2, random_state = 42)"
   ]
  },
  {
   "cell_type": "code",
   "execution_count": 26,
   "id": "29ee5578",
   "metadata": {
    "execution": {
     "iopub.execute_input": "2024-07-06T08:21:51.134491Z",
     "iopub.status.busy": "2024-07-06T08:21:51.134081Z",
     "iopub.status.idle": "2024-07-06T08:21:51.409538Z",
     "shell.execute_reply": "2024-07-06T08:21:51.408230Z"
    },
    "papermill": {
     "duration": 0.3007,
     "end_time": "2024-07-06T08:21:51.412434",
     "exception": false,
     "start_time": "2024-07-06T08:21:51.111734",
     "status": "completed"
    },
    "tags": []
   },
   "outputs": [],
   "source": [
    "import numpy as np\n",
    "from sklearn.linear_model import LogisticRegression\n",
    "from sklearn.ensemble import RandomForestClassifier\n",
    "from sklearn.tree import DecisionTreeClassifier\n",
    "from sklearn.metrics import accuracy_score, f1_score, precision_score, recall_score"
   ]
  },
  {
   "cell_type": "code",
   "execution_count": 27,
   "id": "d64ad284",
   "metadata": {
    "execution": {
     "iopub.execute_input": "2024-07-06T08:21:51.455685Z",
     "iopub.status.busy": "2024-07-06T08:21:51.455249Z",
     "iopub.status.idle": "2024-07-06T08:22:17.668008Z",
     "shell.execute_reply": "2024-07-06T08:22:17.666714Z"
    },
    "papermill": {
     "duration": 26.237733,
     "end_time": "2024-07-06T08:22:17.670886",
     "exception": false,
     "start_time": "2024-07-06T08:21:51.433153",
     "status": "completed"
    },
    "tags": []
   },
   "outputs": [
    {
     "name": "stdout",
     "output_type": "stream",
     "text": [
      "\n",
      "==========Logistic Regression===========\n",
      "\n",
      " Accuaracy: 0.9992200678359603\n",
      "\n",
      " Precision: 0.8870967741935484\n",
      "\n",
      " Recall: 0.6043956043956044\n",
      "\n",
      " F1 Score: 0.718954248366013\n",
      "\n",
      "==========Decision Tree Classifier===========\n",
      "\n",
      " Accuaracy: 0.9990024123483213\n",
      "\n",
      " Precision: 0.68\n",
      "\n",
      " Recall: 0.7472527472527473\n",
      "\n",
      " F1 Score: 0.7120418848167539\n"
     ]
    }
   ],
   "source": [
    "classifier = {\n",
    "    \"Logistic Regression\": LogisticRegression(),\n",
    "    \"Decision Tree Classifier\": DecisionTreeClassifier()\n",
    "}\n",
    "\n",
    "for name, clf in classifier.items():\n",
    "    print(f\"\\n=========={name}===========\")\n",
    "    clf.fit(X_train, y_train)\n",
    "    y_pred = clf.predict(X_test)\n",
    "    print(f\"\\n Accuaracy: {accuracy_score(y_test, y_pred)}\")\n",
    "    print(f\"\\n Precision: {precision_score(y_test, y_pred)}\")\n",
    "    print(f\"\\n Recall: {recall_score(y_test, y_pred)}\")\n",
    "    print(f\"\\n F1 Score: {f1_score(y_test, y_pred)}\")"
   ]
  },
  {
   "cell_type": "code",
   "execution_count": 28,
   "id": "02439250",
   "metadata": {
    "execution": {
     "iopub.execute_input": "2024-07-06T08:22:17.715338Z",
     "iopub.status.busy": "2024-07-06T08:22:17.714487Z",
     "iopub.status.idle": "2024-07-06T08:22:17.719519Z",
     "shell.execute_reply": "2024-07-06T08:22:17.718441Z"
    },
    "papermill": {
     "duration": 0.030113,
     "end_time": "2024-07-06T08:22:17.722038",
     "exception": false,
     "start_time": "2024-07-06T08:22:17.691925",
     "status": "completed"
    },
    "tags": []
   },
   "outputs": [],
   "source": [
    "# UNDERSAMPLING"
   ]
  },
  {
   "cell_type": "code",
   "execution_count": 29,
   "id": "d46f6a05",
   "metadata": {
    "execution": {
     "iopub.execute_input": "2024-07-06T08:22:17.768700Z",
     "iopub.status.busy": "2024-07-06T08:22:17.768178Z",
     "iopub.status.idle": "2024-07-06T08:22:17.809195Z",
     "shell.execute_reply": "2024-07-06T08:22:17.808041Z"
    },
    "papermill": {
     "duration": 0.068996,
     "end_time": "2024-07-06T08:22:17.812147",
     "exception": false,
     "start_time": "2024-07-06T08:22:17.743151",
     "status": "completed"
    },
    "tags": []
   },
   "outputs": [],
   "source": [
    "normal = data[data['Class']==0]\n",
    "fraud = data[data['Class']==1]"
   ]
  },
  {
   "cell_type": "code",
   "execution_count": 30,
   "id": "0ed9886e",
   "metadata": {
    "execution": {
     "iopub.execute_input": "2024-07-06T08:22:17.856261Z",
     "iopub.status.busy": "2024-07-06T08:22:17.855847Z",
     "iopub.status.idle": "2024-07-06T08:22:17.864168Z",
     "shell.execute_reply": "2024-07-06T08:22:17.862858Z"
    },
    "papermill": {
     "duration": 0.033361,
     "end_time": "2024-07-06T08:22:17.866647",
     "exception": false,
     "start_time": "2024-07-06T08:22:17.833286",
     "status": "completed"
    },
    "tags": []
   },
   "outputs": [
    {
     "data": {
      "text/plain": [
       "(275190, 30)"
      ]
     },
     "execution_count": 30,
     "metadata": {},
     "output_type": "execute_result"
    }
   ],
   "source": [
    "normal.shape"
   ]
  },
  {
   "cell_type": "code",
   "execution_count": 31,
   "id": "64d9ae02",
   "metadata": {
    "execution": {
     "iopub.execute_input": "2024-07-06T08:22:17.911208Z",
     "iopub.status.busy": "2024-07-06T08:22:17.910812Z",
     "iopub.status.idle": "2024-07-06T08:22:17.918639Z",
     "shell.execute_reply": "2024-07-06T08:22:17.917385Z"
    },
    "papermill": {
     "duration": 0.033823,
     "end_time": "2024-07-06T08:22:17.921562",
     "exception": false,
     "start_time": "2024-07-06T08:22:17.887739",
     "status": "completed"
    },
    "tags": []
   },
   "outputs": [
    {
     "data": {
      "text/plain": [
       "(473, 30)"
      ]
     },
     "execution_count": 31,
     "metadata": {},
     "output_type": "execute_result"
    }
   ],
   "source": [
    "fraud.shape"
   ]
  },
  {
   "cell_type": "code",
   "execution_count": 32,
   "id": "cf99b551",
   "metadata": {
    "execution": {
     "iopub.execute_input": "2024-07-06T08:22:17.965705Z",
     "iopub.status.busy": "2024-07-06T08:22:17.965285Z",
     "iopub.status.idle": "2024-07-06T08:22:17.979710Z",
     "shell.execute_reply": "2024-07-06T08:22:17.978563Z"
    },
    "papermill": {
     "duration": 0.039583,
     "end_time": "2024-07-06T08:22:17.982354",
     "exception": false,
     "start_time": "2024-07-06T08:22:17.942771",
     "status": "completed"
    },
    "tags": []
   },
   "outputs": [],
   "source": [
    "normal_sample = normal.sample(n=473)"
   ]
  },
  {
   "cell_type": "code",
   "execution_count": 33,
   "id": "6c362c30",
   "metadata": {
    "execution": {
     "iopub.execute_input": "2024-07-06T08:22:18.027588Z",
     "iopub.status.busy": "2024-07-06T08:22:18.026535Z",
     "iopub.status.idle": "2024-07-06T08:22:18.034393Z",
     "shell.execute_reply": "2024-07-06T08:22:18.033111Z"
    },
    "papermill": {
     "duration": 0.033267,
     "end_time": "2024-07-06T08:22:18.037128",
     "exception": false,
     "start_time": "2024-07-06T08:22:18.003861",
     "status": "completed"
    },
    "tags": []
   },
   "outputs": [
    {
     "data": {
      "text/plain": [
       "(473, 30)"
      ]
     },
     "execution_count": 33,
     "metadata": {},
     "output_type": "execute_result"
    }
   ],
   "source": [
    "normal_sample.shape"
   ]
  },
  {
   "cell_type": "code",
   "execution_count": 34,
   "id": "b6f6565e",
   "metadata": {
    "execution": {
     "iopub.execute_input": "2024-07-06T08:22:18.082006Z",
     "iopub.status.busy": "2024-07-06T08:22:18.081538Z",
     "iopub.status.idle": "2024-07-06T08:22:18.089048Z",
     "shell.execute_reply": "2024-07-06T08:22:18.087658Z"
    },
    "papermill": {
     "duration": 0.033118,
     "end_time": "2024-07-06T08:22:18.091649",
     "exception": false,
     "start_time": "2024-07-06T08:22:18.058531",
     "status": "completed"
    },
    "tags": []
   },
   "outputs": [],
   "source": [
    "new_data = pd.concat([normal_sample,fraud], ignore_index=True)"
   ]
  },
  {
   "cell_type": "code",
   "execution_count": 35,
   "id": "e3533748",
   "metadata": {
    "execution": {
     "iopub.execute_input": "2024-07-06T08:22:18.136719Z",
     "iopub.status.busy": "2024-07-06T08:22:18.136285Z",
     "iopub.status.idle": "2024-07-06T08:22:18.170938Z",
     "shell.execute_reply": "2024-07-06T08:22:18.169590Z"
    },
    "papermill": {
     "duration": 0.060325,
     "end_time": "2024-07-06T08:22:18.173636",
     "exception": false,
     "start_time": "2024-07-06T08:22:18.113311",
     "status": "completed"
    },
    "tags": []
   },
   "outputs": [
    {
     "data": {
      "text/html": [
       "<div>\n",
       "<style scoped>\n",
       "    .dataframe tbody tr th:only-of-type {\n",
       "        vertical-align: middle;\n",
       "    }\n",
       "\n",
       "    .dataframe tbody tr th {\n",
       "        vertical-align: top;\n",
       "    }\n",
       "\n",
       "    .dataframe thead th {\n",
       "        text-align: right;\n",
       "    }\n",
       "</style>\n",
       "<table border=\"1\" class=\"dataframe\">\n",
       "  <thead>\n",
       "    <tr style=\"text-align: right;\">\n",
       "      <th></th>\n",
       "      <th>V1</th>\n",
       "      <th>V2</th>\n",
       "      <th>V3</th>\n",
       "      <th>V4</th>\n",
       "      <th>V5</th>\n",
       "      <th>V6</th>\n",
       "      <th>V7</th>\n",
       "      <th>V8</th>\n",
       "      <th>V9</th>\n",
       "      <th>V10</th>\n",
       "      <th>V11</th>\n",
       "      <th>V12</th>\n",
       "      <th>V13</th>\n",
       "      <th>V14</th>\n",
       "      <th>V15</th>\n",
       "      <th>V16</th>\n",
       "      <th>V17</th>\n",
       "      <th>V18</th>\n",
       "      <th>V19</th>\n",
       "      <th>V20</th>\n",
       "      <th>V21</th>\n",
       "      <th>V22</th>\n",
       "      <th>V23</th>\n",
       "      <th>V24</th>\n",
       "      <th>V25</th>\n",
       "      <th>V26</th>\n",
       "      <th>V27</th>\n",
       "      <th>V28</th>\n",
       "      <th>Amount</th>\n",
       "      <th>Class</th>\n",
       "    </tr>\n",
       "  </thead>\n",
       "  <tbody>\n",
       "    <tr>\n",
       "      <th>0</th>\n",
       "      <td>0.004804</td>\n",
       "      <td>1.013762</td>\n",
       "      <td>1.220124</td>\n",
       "      <td>1.205317</td>\n",
       "      <td>-0.432583</td>\n",
       "      <td>0.450756</td>\n",
       "      <td>-1.105143</td>\n",
       "      <td>-2.614926</td>\n",
       "      <td>-0.337604</td>\n",
       "      <td>-0.814442</td>\n",
       "      <td>-0.757316</td>\n",
       "      <td>0.863699</td>\n",
       "      <td>0.722132</td>\n",
       "      <td>0.318109</td>\n",
       "      <td>0.734312</td>\n",
       "      <td>0.081570</td>\n",
       "      <td>-0.185400</td>\n",
       "      <td>-0.160025</td>\n",
       "      <td>0.130734</td>\n",
       "      <td>0.660823</td>\n",
       "      <td>-1.446259</td>\n",
       "      <td>-0.010289</td>\n",
       "      <td>0.026640</td>\n",
       "      <td>-0.053401</td>\n",
       "      <td>0.624347</td>\n",
       "      <td>-0.653311</td>\n",
       "      <td>0.166353</td>\n",
       "      <td>0.264770</td>\n",
       "      <td>-0.348232</td>\n",
       "      <td>0</td>\n",
       "    </tr>\n",
       "    <tr>\n",
       "      <th>1</th>\n",
       "      <td>0.964633</td>\n",
       "      <td>-1.235181</td>\n",
       "      <td>-0.053873</td>\n",
       "      <td>-0.338503</td>\n",
       "      <td>-1.290163</td>\n",
       "      <td>-0.823817</td>\n",
       "      <td>-0.173382</td>\n",
       "      <td>-0.117579</td>\n",
       "      <td>-0.840852</td>\n",
       "      <td>0.749128</td>\n",
       "      <td>0.857557</td>\n",
       "      <td>-0.164650</td>\n",
       "      <td>-1.615918</td>\n",
       "      <td>0.608267</td>\n",
       "      <td>-0.549243</td>\n",
       "      <td>-1.555280</td>\n",
       "      <td>0.239360</td>\n",
       "      <td>1.270722</td>\n",
       "      <td>-0.302261</td>\n",
       "      <td>-0.200319</td>\n",
       "      <td>-0.283593</td>\n",
       "      <td>-0.778958</td>\n",
       "      <td>-0.146312</td>\n",
       "      <td>0.559330</td>\n",
       "      <td>0.246841</td>\n",
       "      <td>1.045957</td>\n",
       "      <td>-0.120776</td>\n",
       "      <td>0.020819</td>\n",
       "      <td>0.465978</td>\n",
       "      <td>0</td>\n",
       "    </tr>\n",
       "    <tr>\n",
       "      <th>2</th>\n",
       "      <td>-0.635665</td>\n",
       "      <td>0.686571</td>\n",
       "      <td>3.090708</td>\n",
       "      <td>3.026917</td>\n",
       "      <td>0.185080</td>\n",
       "      <td>0.468799</td>\n",
       "      <td>0.059867</td>\n",
       "      <td>-0.306096</td>\n",
       "      <td>-0.440303</td>\n",
       "      <td>1.107821</td>\n",
       "      <td>-0.543168</td>\n",
       "      <td>0.250376</td>\n",
       "      <td>1.336546</td>\n",
       "      <td>-1.168373</td>\n",
       "      <td>0.463903</td>\n",
       "      <td>-0.320089</td>\n",
       "      <td>-0.074539</td>\n",
       "      <td>-0.060729</td>\n",
       "      <td>1.002981</td>\n",
       "      <td>0.255360</td>\n",
       "      <td>-0.122279</td>\n",
       "      <td>0.177858</td>\n",
       "      <td>-0.339252</td>\n",
       "      <td>0.390599</td>\n",
       "      <td>0.025997</td>\n",
       "      <td>0.163408</td>\n",
       "      <td>-0.494076</td>\n",
       "      <td>-0.389846</td>\n",
       "      <td>-0.353229</td>\n",
       "      <td>0</td>\n",
       "    </tr>\n",
       "    <tr>\n",
       "      <th>3</th>\n",
       "      <td>-0.961850</td>\n",
       "      <td>-0.618994</td>\n",
       "      <td>-0.611488</td>\n",
       "      <td>-0.825425</td>\n",
       "      <td>4.028395</td>\n",
       "      <td>2.912857</td>\n",
       "      <td>-0.517228</td>\n",
       "      <td>0.992770</td>\n",
       "      <td>-0.555376</td>\n",
       "      <td>-0.313595</td>\n",
       "      <td>-0.118219</td>\n",
       "      <td>-0.006355</td>\n",
       "      <td>-0.238017</td>\n",
       "      <td>0.545292</td>\n",
       "      <td>0.772647</td>\n",
       "      <td>-0.669941</td>\n",
       "      <td>0.009657</td>\n",
       "      <td>-0.636307</td>\n",
       "      <td>1.080944</td>\n",
       "      <td>0.393270</td>\n",
       "      <td>-0.112308</td>\n",
       "      <td>-0.705929</td>\n",
       "      <td>0.202058</td>\n",
       "      <td>0.709708</td>\n",
       "      <td>-0.390415</td>\n",
       "      <td>0.374836</td>\n",
       "      <td>0.073973</td>\n",
       "      <td>0.163749</td>\n",
       "      <td>-0.349671</td>\n",
       "      <td>0</td>\n",
       "    </tr>\n",
       "    <tr>\n",
       "      <th>4</th>\n",
       "      <td>2.084699</td>\n",
       "      <td>0.028356</td>\n",
       "      <td>-1.804617</td>\n",
       "      <td>0.397832</td>\n",
       "      <td>0.336425</td>\n",
       "      <td>-0.833115</td>\n",
       "      <td>0.064396</td>\n",
       "      <td>-0.127869</td>\n",
       "      <td>0.767792</td>\n",
       "      <td>-0.326922</td>\n",
       "      <td>-1.003921</td>\n",
       "      <td>-0.829034</td>\n",
       "      <td>-1.645813</td>\n",
       "      <td>-0.507991</td>\n",
       "      <td>0.407282</td>\n",
       "      <td>0.443505</td>\n",
       "      <td>0.515953</td>\n",
       "      <td>-0.043521</td>\n",
       "      <td>0.123513</td>\n",
       "      <td>-0.262160</td>\n",
       "      <td>-0.394860</td>\n",
       "      <td>-1.115754</td>\n",
       "      <td>0.341316</td>\n",
       "      <td>0.331347</td>\n",
       "      <td>-0.296049</td>\n",
       "      <td>0.187167</td>\n",
       "      <td>-0.074266</td>\n",
       "      <td>-0.035764</td>\n",
       "      <td>-0.346073</td>\n",
       "      <td>0</td>\n",
       "    </tr>\n",
       "  </tbody>\n",
       "</table>\n",
       "</div>"
      ],
      "text/plain": [
       "         V1        V2        V3        V4        V5        V6        V7  \\\n",
       "0  0.004804  1.013762  1.220124  1.205317 -0.432583  0.450756 -1.105143   \n",
       "1  0.964633 -1.235181 -0.053873 -0.338503 -1.290163 -0.823817 -0.173382   \n",
       "2 -0.635665  0.686571  3.090708  3.026917  0.185080  0.468799  0.059867   \n",
       "3 -0.961850 -0.618994 -0.611488 -0.825425  4.028395  2.912857 -0.517228   \n",
       "4  2.084699  0.028356 -1.804617  0.397832  0.336425 -0.833115  0.064396   \n",
       "\n",
       "         V8        V9       V10       V11       V12       V13       V14  \\\n",
       "0 -2.614926 -0.337604 -0.814442 -0.757316  0.863699  0.722132  0.318109   \n",
       "1 -0.117579 -0.840852  0.749128  0.857557 -0.164650 -1.615918  0.608267   \n",
       "2 -0.306096 -0.440303  1.107821 -0.543168  0.250376  1.336546 -1.168373   \n",
       "3  0.992770 -0.555376 -0.313595 -0.118219 -0.006355 -0.238017  0.545292   \n",
       "4 -0.127869  0.767792 -0.326922 -1.003921 -0.829034 -1.645813 -0.507991   \n",
       "\n",
       "        V15       V16       V17       V18       V19       V20       V21  \\\n",
       "0  0.734312  0.081570 -0.185400 -0.160025  0.130734  0.660823 -1.446259   \n",
       "1 -0.549243 -1.555280  0.239360  1.270722 -0.302261 -0.200319 -0.283593   \n",
       "2  0.463903 -0.320089 -0.074539 -0.060729  1.002981  0.255360 -0.122279   \n",
       "3  0.772647 -0.669941  0.009657 -0.636307  1.080944  0.393270 -0.112308   \n",
       "4  0.407282  0.443505  0.515953 -0.043521  0.123513 -0.262160 -0.394860   \n",
       "\n",
       "        V22       V23       V24       V25       V26       V27       V28  \\\n",
       "0 -0.010289  0.026640 -0.053401  0.624347 -0.653311  0.166353  0.264770   \n",
       "1 -0.778958 -0.146312  0.559330  0.246841  1.045957 -0.120776  0.020819   \n",
       "2  0.177858 -0.339252  0.390599  0.025997  0.163408 -0.494076 -0.389846   \n",
       "3 -0.705929  0.202058  0.709708 -0.390415  0.374836  0.073973  0.163749   \n",
       "4 -1.115754  0.341316  0.331347 -0.296049  0.187167 -0.074266 -0.035764   \n",
       "\n",
       "     Amount  Class  \n",
       "0 -0.348232      0  \n",
       "1  0.465978      0  \n",
       "2 -0.353229      0  \n",
       "3 -0.349671      0  \n",
       "4 -0.346073      0  "
      ]
     },
     "execution_count": 35,
     "metadata": {},
     "output_type": "execute_result"
    }
   ],
   "source": [
    "new_data.head()"
   ]
  },
  {
   "cell_type": "code",
   "execution_count": 36,
   "id": "6357d23a",
   "metadata": {
    "execution": {
     "iopub.execute_input": "2024-07-06T08:22:18.221742Z",
     "iopub.status.busy": "2024-07-06T08:22:18.221309Z",
     "iopub.status.idle": "2024-07-06T08:22:18.230785Z",
     "shell.execute_reply": "2024-07-06T08:22:18.229535Z"
    },
    "papermill": {
     "duration": 0.035901,
     "end_time": "2024-07-06T08:22:18.233312",
     "exception": false,
     "start_time": "2024-07-06T08:22:18.197411",
     "status": "completed"
    },
    "tags": []
   },
   "outputs": [
    {
     "data": {
      "text/plain": [
       "Class\n",
       "0    473\n",
       "1    473\n",
       "Name: count, dtype: int64"
      ]
     },
     "execution_count": 36,
     "metadata": {},
     "output_type": "execute_result"
    }
   ],
   "source": [
    "new_data['Class'].value_counts()"
   ]
  },
  {
   "cell_type": "code",
   "execution_count": 37,
   "id": "2fa2df7b",
   "metadata": {
    "execution": {
     "iopub.execute_input": "2024-07-06T08:22:18.279736Z",
     "iopub.status.busy": "2024-07-06T08:22:18.279287Z",
     "iopub.status.idle": "2024-07-06T08:22:18.287208Z",
     "shell.execute_reply": "2024-07-06T08:22:18.285896Z"
    },
    "papermill": {
     "duration": 0.034391,
     "end_time": "2024-07-06T08:22:18.290047",
     "exception": false,
     "start_time": "2024-07-06T08:22:18.255656",
     "status": "completed"
    },
    "tags": []
   },
   "outputs": [],
   "source": [
    "X = new_data.drop('Class', axis = 1)\n",
    "y= new_data['Class']"
   ]
  },
  {
   "cell_type": "code",
   "execution_count": 38,
   "id": "c2b22b7a",
   "metadata": {
    "execution": {
     "iopub.execute_input": "2024-07-06T08:22:18.337673Z",
     "iopub.status.busy": "2024-07-06T08:22:18.337196Z",
     "iopub.status.idle": "2024-07-06T08:22:18.347470Z",
     "shell.execute_reply": "2024-07-06T08:22:18.346248Z"
    },
    "papermill": {
     "duration": 0.036712,
     "end_time": "2024-07-06T08:22:18.350218",
     "exception": false,
     "start_time": "2024-07-06T08:22:18.313506",
     "status": "completed"
    },
    "tags": []
   },
   "outputs": [],
   "source": [
    "X_train, X_test, y_train, y_test = train_test_split(X, y, test_size = 0.2, random_state = 42)"
   ]
  },
  {
   "cell_type": "code",
   "execution_count": 39,
   "id": "13883861",
   "metadata": {
    "execution": {
     "iopub.execute_input": "2024-07-06T08:22:18.396872Z",
     "iopub.status.busy": "2024-07-06T08:22:18.396414Z",
     "iopub.status.idle": "2024-07-06T08:22:18.506492Z",
     "shell.execute_reply": "2024-07-06T08:22:18.504860Z"
    },
    "papermill": {
     "duration": 0.137698,
     "end_time": "2024-07-06T08:22:18.510466",
     "exception": false,
     "start_time": "2024-07-06T08:22:18.372768",
     "status": "completed"
    },
    "tags": []
   },
   "outputs": [
    {
     "name": "stdout",
     "output_type": "stream",
     "text": [
      "\n",
      "==========Logistic Regression===========\n",
      "\n",
      " Accuaracy: 0.9315789473684211\n",
      "\n",
      " Precision: 0.9587628865979382\n",
      "\n",
      " Recall: 0.9117647058823529\n",
      "\n",
      " F1 Score: 0.9346733668341709\n",
      "\n",
      "==========Decision Tree Classifier===========\n",
      "\n",
      " Accuaracy: 0.9210526315789473\n",
      "\n",
      " Precision: 0.9142857142857143\n",
      "\n",
      " Recall: 0.9411764705882353\n",
      "\n",
      " F1 Score: 0.9275362318840579\n"
     ]
    }
   ],
   "source": [
    "classifier = {\n",
    "    \"Logistic Regression\": LogisticRegression(),\n",
    "    \"Decision Tree Classifier\": DecisionTreeClassifier()\n",
    "}\n",
    "\n",
    "for name, clf in classifier.items():\n",
    "    print(f\"\\n=========={name}===========\")\n",
    "    clf.fit(X_train, y_train)\n",
    "    y_pred = clf.predict(X_test)\n",
    "    print(f\"\\n Accuaracy: {accuracy_score(y_test, y_pred)}\")\n",
    "    print(f\"\\n Precision: {precision_score(y_test, y_pred)}\")\n",
    "    print(f\"\\n Recall: {recall_score(y_test, y_pred)}\")\n",
    "    print(f\"\\n F1 Score: {f1_score(y_test, y_pred)}\")"
   ]
  },
  {
   "cell_type": "code",
   "execution_count": 40,
   "id": "d7939735",
   "metadata": {
    "execution": {
     "iopub.execute_input": "2024-07-06T08:22:18.579008Z",
     "iopub.status.busy": "2024-07-06T08:22:18.577422Z",
     "iopub.status.idle": "2024-07-06T08:22:18.583298Z",
     "shell.execute_reply": "2024-07-06T08:22:18.582019Z"
    },
    "papermill": {
     "duration": 0.032881,
     "end_time": "2024-07-06T08:22:18.585943",
     "exception": false,
     "start_time": "2024-07-06T08:22:18.553062",
     "status": "completed"
    },
    "tags": []
   },
   "outputs": [],
   "source": [
    "# OVERSAMPLING"
   ]
  },
  {
   "cell_type": "code",
   "execution_count": 41,
   "id": "fd9a2dc1",
   "metadata": {
    "execution": {
     "iopub.execute_input": "2024-07-06T08:22:18.634505Z",
     "iopub.status.busy": "2024-07-06T08:22:18.634086Z",
     "iopub.status.idle": "2024-07-06T08:22:18.662018Z",
     "shell.execute_reply": "2024-07-06T08:22:18.660775Z"
    },
    "papermill": {
     "duration": 0.055925,
     "end_time": "2024-07-06T08:22:18.664999",
     "exception": false,
     "start_time": "2024-07-06T08:22:18.609074",
     "status": "completed"
    },
    "tags": []
   },
   "outputs": [],
   "source": [
    "X = data.drop('Class', axis = 1)\n",
    "y= data['Class']"
   ]
  },
  {
   "cell_type": "code",
   "execution_count": 42,
   "id": "1789c788",
   "metadata": {
    "execution": {
     "iopub.execute_input": "2024-07-06T08:22:18.712470Z",
     "iopub.status.busy": "2024-07-06T08:22:18.712028Z",
     "iopub.status.idle": "2024-07-06T08:22:18.720298Z",
     "shell.execute_reply": "2024-07-06T08:22:18.718903Z"
    },
    "papermill": {
     "duration": 0.035706,
     "end_time": "2024-07-06T08:22:18.723203",
     "exception": false,
     "start_time": "2024-07-06T08:22:18.687497",
     "status": "completed"
    },
    "tags": []
   },
   "outputs": [
    {
     "data": {
      "text/plain": [
       "(275663, 29)"
      ]
     },
     "execution_count": 42,
     "metadata": {},
     "output_type": "execute_result"
    }
   ],
   "source": [
    "X.shape"
   ]
  },
  {
   "cell_type": "code",
   "execution_count": 43,
   "id": "e321fb25",
   "metadata": {
    "execution": {
     "iopub.execute_input": "2024-07-06T08:22:18.772472Z",
     "iopub.status.busy": "2024-07-06T08:22:18.772089Z",
     "iopub.status.idle": "2024-07-06T08:22:18.779918Z",
     "shell.execute_reply": "2024-07-06T08:22:18.778290Z"
    },
    "papermill": {
     "duration": 0.036237,
     "end_time": "2024-07-06T08:22:18.782538",
     "exception": false,
     "start_time": "2024-07-06T08:22:18.746301",
     "status": "completed"
    },
    "tags": []
   },
   "outputs": [
    {
     "data": {
      "text/plain": [
       "(275663,)"
      ]
     },
     "execution_count": 43,
     "metadata": {},
     "output_type": "execute_result"
    }
   ],
   "source": [
    "y.shape"
   ]
  },
  {
   "cell_type": "code",
   "execution_count": 44,
   "id": "650b9648",
   "metadata": {
    "execution": {
     "iopub.execute_input": "2024-07-06T08:22:18.829923Z",
     "iopub.status.busy": "2024-07-06T08:22:18.829422Z",
     "iopub.status.idle": "2024-07-06T08:22:19.001270Z",
     "shell.execute_reply": "2024-07-06T08:22:18.999941Z"
    },
    "papermill": {
     "duration": 0.199133,
     "end_time": "2024-07-06T08:22:19.004468",
     "exception": false,
     "start_time": "2024-07-06T08:22:18.805335",
     "status": "completed"
    },
    "tags": []
   },
   "outputs": [],
   "source": [
    "from imblearn.over_sampling import SMOTE"
   ]
  },
  {
   "cell_type": "code",
   "execution_count": 45,
   "id": "c00a4252",
   "metadata": {
    "execution": {
     "iopub.execute_input": "2024-07-06T08:22:19.051966Z",
     "iopub.status.busy": "2024-07-06T08:22:19.051261Z",
     "iopub.status.idle": "2024-07-06T08:22:19.652432Z",
     "shell.execute_reply": "2024-07-06T08:22:19.651203Z"
    },
    "papermill": {
     "duration": 0.628053,
     "end_time": "2024-07-06T08:22:19.655248",
     "exception": false,
     "start_time": "2024-07-06T08:22:19.027195",
     "status": "completed"
    },
    "tags": []
   },
   "outputs": [],
   "source": [
    "X_res, y_res = SMOTE().fit_resample(X,y)"
   ]
  },
  {
   "cell_type": "code",
   "execution_count": 46,
   "id": "f21a8748",
   "metadata": {
    "execution": {
     "iopub.execute_input": "2024-07-06T08:22:19.702537Z",
     "iopub.status.busy": "2024-07-06T08:22:19.702103Z",
     "iopub.status.idle": "2024-07-06T08:22:19.717412Z",
     "shell.execute_reply": "2024-07-06T08:22:19.716173Z"
    },
    "papermill": {
     "duration": 0.042297,
     "end_time": "2024-07-06T08:22:19.720274",
     "exception": false,
     "start_time": "2024-07-06T08:22:19.677977",
     "status": "completed"
    },
    "tags": []
   },
   "outputs": [
    {
     "data": {
      "text/plain": [
       "Class\n",
       "0    275190\n",
       "1    275190\n",
       "Name: count, dtype: int64"
      ]
     },
     "execution_count": 46,
     "metadata": {},
     "output_type": "execute_result"
    }
   ],
   "source": [
    "y_res.value_counts()"
   ]
  },
  {
   "cell_type": "code",
   "execution_count": 47,
   "id": "c9011d0e",
   "metadata": {
    "execution": {
     "iopub.execute_input": "2024-07-06T08:22:19.768866Z",
     "iopub.status.busy": "2024-07-06T08:22:19.768309Z",
     "iopub.status.idle": "2024-07-06T08:22:20.134659Z",
     "shell.execute_reply": "2024-07-06T08:22:20.133286Z"
    },
    "papermill": {
     "duration": 0.394552,
     "end_time": "2024-07-06T08:22:20.137647",
     "exception": false,
     "start_time": "2024-07-06T08:22:19.743095",
     "status": "completed"
    },
    "tags": []
   },
   "outputs": [],
   "source": [
    "X_train, X_test, y_train, y_test = train_test_split(X_res, y_res, test_size = 0.2, random_state = 42)"
   ]
  },
  {
   "cell_type": "code",
   "execution_count": 48,
   "id": "50c1aa48",
   "metadata": {
    "execution": {
     "iopub.execute_input": "2024-07-06T08:22:20.185831Z",
     "iopub.status.busy": "2024-07-06T08:22:20.185373Z",
     "iopub.status.idle": "2024-07-06T08:23:20.528854Z",
     "shell.execute_reply": "2024-07-06T08:23:20.527640Z"
    },
    "papermill": {
     "duration": 60.393697,
     "end_time": "2024-07-06T08:23:20.554443",
     "exception": false,
     "start_time": "2024-07-06T08:22:20.160746",
     "status": "completed"
    },
    "tags": []
   },
   "outputs": [
    {
     "name": "stdout",
     "output_type": "stream",
     "text": [
      "\n",
      "==========Logistic Regression===========\n",
      "\n",
      " Accuaracy: 0.9446382499364075\n",
      "\n",
      " Precision: 0.9726146531898034\n",
      "\n",
      " Recall: 0.9149682744577569\n",
      "\n",
      " F1 Score: 0.9429112097877205\n",
      "\n",
      "==========Decision Tree Classifier===========\n",
      "\n",
      " Accuaracy: 0.9982830044696391\n",
      "\n",
      " Precision: 0.9974227739663871\n",
      "\n",
      " Recall: 0.9991455011544825\n",
      "\n",
      " F1 Score: 0.9982833943379261\n"
     ]
    }
   ],
   "source": [
    "classifier = {\n",
    "    \"Logistic Regression\": LogisticRegression(),\n",
    "    \"Decision Tree Classifier\": DecisionTreeClassifier()\n",
    "}\n",
    "\n",
    "for name, clf in classifier.items():\n",
    "    print(f\"\\n=========={name}===========\")\n",
    "    clf.fit(X_train, y_train)\n",
    "    y_pred = clf.predict(X_test)\n",
    "    print(f\"\\n Accuaracy: {accuracy_score(y_test, y_pred)}\")\n",
    "    print(f\"\\n Precision: {precision_score(y_test, y_pred)}\")\n",
    "    print(f\"\\n Recall: {recall_score(y_test, y_pred)}\")\n",
    "    print(f\"\\n F1 Score: {f1_score(y_test, y_pred)}\")"
   ]
  },
  {
   "cell_type": "code",
   "execution_count": 49,
   "id": "dd0a9135",
   "metadata": {
    "execution": {
     "iopub.execute_input": "2024-07-06T08:23:20.603220Z",
     "iopub.status.busy": "2024-07-06T08:23:20.602332Z",
     "iopub.status.idle": "2024-07-06T08:24:21.701935Z",
     "shell.execute_reply": "2024-07-06T08:24:21.700661Z"
    },
    "papermill": {
     "duration": 61.150134,
     "end_time": "2024-07-06T08:24:21.727876",
     "exception": false,
     "start_time": "2024-07-06T08:23:20.577742",
     "status": "completed"
    },
    "tags": []
   },
   "outputs": [
    {
     "data": {
      "text/html": [
       "<style>#sk-container-id-1 {color: black;background-color: white;}#sk-container-id-1 pre{padding: 0;}#sk-container-id-1 div.sk-toggleable {background-color: white;}#sk-container-id-1 label.sk-toggleable__label {cursor: pointer;display: block;width: 100%;margin-bottom: 0;padding: 0.3em;box-sizing: border-box;text-align: center;}#sk-container-id-1 label.sk-toggleable__label-arrow:before {content: \"▸\";float: left;margin-right: 0.25em;color: #696969;}#sk-container-id-1 label.sk-toggleable__label-arrow:hover:before {color: black;}#sk-container-id-1 div.sk-estimator:hover label.sk-toggleable__label-arrow:before {color: black;}#sk-container-id-1 div.sk-toggleable__content {max-height: 0;max-width: 0;overflow: hidden;text-align: left;background-color: #f0f8ff;}#sk-container-id-1 div.sk-toggleable__content pre {margin: 0.2em;color: black;border-radius: 0.25em;background-color: #f0f8ff;}#sk-container-id-1 input.sk-toggleable__control:checked~div.sk-toggleable__content {max-height: 200px;max-width: 100%;overflow: auto;}#sk-container-id-1 input.sk-toggleable__control:checked~label.sk-toggleable__label-arrow:before {content: \"▾\";}#sk-container-id-1 div.sk-estimator input.sk-toggleable__control:checked~label.sk-toggleable__label {background-color: #d4ebff;}#sk-container-id-1 div.sk-label input.sk-toggleable__control:checked~label.sk-toggleable__label {background-color: #d4ebff;}#sk-container-id-1 input.sk-hidden--visually {border: 0;clip: rect(1px 1px 1px 1px);clip: rect(1px, 1px, 1px, 1px);height: 1px;margin: -1px;overflow: hidden;padding: 0;position: absolute;width: 1px;}#sk-container-id-1 div.sk-estimator {font-family: monospace;background-color: #f0f8ff;border: 1px dotted black;border-radius: 0.25em;box-sizing: border-box;margin-bottom: 0.5em;}#sk-container-id-1 div.sk-estimator:hover {background-color: #d4ebff;}#sk-container-id-1 div.sk-parallel-item::after {content: \"\";width: 100%;border-bottom: 1px solid gray;flex-grow: 1;}#sk-container-id-1 div.sk-label:hover label.sk-toggleable__label {background-color: #d4ebff;}#sk-container-id-1 div.sk-serial::before {content: \"\";position: absolute;border-left: 1px solid gray;box-sizing: border-box;top: 0;bottom: 0;left: 50%;z-index: 0;}#sk-container-id-1 div.sk-serial {display: flex;flex-direction: column;align-items: center;background-color: white;padding-right: 0.2em;padding-left: 0.2em;position: relative;}#sk-container-id-1 div.sk-item {position: relative;z-index: 1;}#sk-container-id-1 div.sk-parallel {display: flex;align-items: stretch;justify-content: center;background-color: white;position: relative;}#sk-container-id-1 div.sk-item::before, #sk-container-id-1 div.sk-parallel-item::before {content: \"\";position: absolute;border-left: 1px solid gray;box-sizing: border-box;top: 0;bottom: 0;left: 50%;z-index: -1;}#sk-container-id-1 div.sk-parallel-item {display: flex;flex-direction: column;z-index: 1;position: relative;background-color: white;}#sk-container-id-1 div.sk-parallel-item:first-child::after {align-self: flex-end;width: 50%;}#sk-container-id-1 div.sk-parallel-item:last-child::after {align-self: flex-start;width: 50%;}#sk-container-id-1 div.sk-parallel-item:only-child::after {width: 0;}#sk-container-id-1 div.sk-dashed-wrapped {border: 1px dashed gray;margin: 0 0.4em 0.5em 0.4em;box-sizing: border-box;padding-bottom: 0.4em;background-color: white;}#sk-container-id-1 div.sk-label label {font-family: monospace;font-weight: bold;display: inline-block;line-height: 1.2em;}#sk-container-id-1 div.sk-label-container {text-align: center;}#sk-container-id-1 div.sk-container {/* jupyter's `normalize.less` sets `[hidden] { display: none; }` but bootstrap.min.css set `[hidden] { display: none !important; }` so we also need the `!important` here to be able to override the default hidden behavior on the sphinx rendered scikit-learn.org. See: https://github.com/scikit-learn/scikit-learn/issues/21755 */display: inline-block !important;position: relative;}#sk-container-id-1 div.sk-text-repr-fallback {display: none;}</style><div id=\"sk-container-id-1\" class=\"sk-top-container\"><div class=\"sk-text-repr-fallback\"><pre>DecisionTreeClassifier()</pre><b>In a Jupyter environment, please rerun this cell to show the HTML representation or trust the notebook. <br />On GitHub, the HTML representation is unable to render, please try loading this page with nbviewer.org.</b></div><div class=\"sk-container\" hidden><div class=\"sk-item\"><div class=\"sk-estimator sk-toggleable\"><input class=\"sk-toggleable__control sk-hidden--visually\" id=\"sk-estimator-id-1\" type=\"checkbox\" checked><label for=\"sk-estimator-id-1\" class=\"sk-toggleable__label sk-toggleable__label-arrow\">DecisionTreeClassifier</label><div class=\"sk-toggleable__content\"><pre>DecisionTreeClassifier()</pre></div></div></div></div></div>"
      ],
      "text/plain": [
       "DecisionTreeClassifier()"
      ]
     },
     "execution_count": 49,
     "metadata": {},
     "output_type": "execute_result"
    }
   ],
   "source": [
    "dtc = DecisionTreeClassifier()\n",
    "dtc.fit(X_res, y_res)"
   ]
  },
  {
   "cell_type": "code",
   "execution_count": 50,
   "id": "4cbf07a1",
   "metadata": {
    "execution": {
     "iopub.execute_input": "2024-07-06T08:24:21.776317Z",
     "iopub.status.busy": "2024-07-06T08:24:21.775912Z",
     "iopub.status.idle": "2024-07-06T08:24:21.781412Z",
     "shell.execute_reply": "2024-07-06T08:24:21.780184Z"
    },
    "papermill": {
     "duration": 0.032756,
     "end_time": "2024-07-06T08:24:21.783892",
     "exception": false,
     "start_time": "2024-07-06T08:24:21.751136",
     "status": "completed"
    },
    "tags": []
   },
   "outputs": [],
   "source": [
    "import joblib"
   ]
  },
  {
   "cell_type": "code",
   "execution_count": 51,
   "id": "133b3dad",
   "metadata": {
    "execution": {
     "iopub.execute_input": "2024-07-06T08:24:21.835444Z",
     "iopub.status.busy": "2024-07-06T08:24:21.834448Z",
     "iopub.status.idle": "2024-07-06T08:24:21.845362Z",
     "shell.execute_reply": "2024-07-06T08:24:21.844261Z"
    },
    "papermill": {
     "duration": 0.039611,
     "end_time": "2024-07-06T08:24:21.847933",
     "exception": false,
     "start_time": "2024-07-06T08:24:21.808322",
     "status": "completed"
    },
    "tags": []
   },
   "outputs": [
    {
     "data": {
      "text/plain": [
       "['credit_card_model.pkl']"
      ]
     },
     "execution_count": 51,
     "metadata": {},
     "output_type": "execute_result"
    }
   ],
   "source": [
    "joblib.dump(dtc, \"credit_card_model.pkl\")"
   ]
  },
  {
   "cell_type": "code",
   "execution_count": 52,
   "id": "20bbc7e3",
   "metadata": {
    "execution": {
     "iopub.execute_input": "2024-07-06T08:24:21.898656Z",
     "iopub.status.busy": "2024-07-06T08:24:21.897681Z",
     "iopub.status.idle": "2024-07-06T08:24:21.905288Z",
     "shell.execute_reply": "2024-07-06T08:24:21.903997Z"
    },
    "papermill": {
     "duration": 0.036462,
     "end_time": "2024-07-06T08:24:21.907945",
     "exception": false,
     "start_time": "2024-07-06T08:24:21.871483",
     "status": "completed"
    },
    "tags": []
   },
   "outputs": [],
   "source": [
    "model = joblib.load(\"credit_card_model.pkl\")"
   ]
  },
  {
   "cell_type": "code",
   "execution_count": 53,
   "id": "861c8e25",
   "metadata": {
    "execution": {
     "iopub.execute_input": "2024-07-06T08:24:21.958107Z",
     "iopub.status.busy": "2024-07-06T08:24:21.957233Z",
     "iopub.status.idle": "2024-07-06T08:24:21.968408Z",
     "shell.execute_reply": "2024-07-06T08:24:21.967179Z"
    },
    "papermill": {
     "duration": 0.038702,
     "end_time": "2024-07-06T08:24:21.970871",
     "exception": false,
     "start_time": "2024-07-06T08:24:21.932169",
     "status": "completed"
    },
    "tags": []
   },
   "outputs": [
    {
     "name": "stderr",
     "output_type": "stream",
     "text": [
      "/opt/conda/lib/python3.10/site-packages/sklearn/base.py:439: UserWarning: X does not have valid feature names, but DecisionTreeClassifier was fitted with feature names\n",
      "  warnings.warn(\n"
     ]
    }
   ],
   "source": [
    "pred = model.predict([[-1.3598071336738,-0.0727811733098497,2.53634673796914,1.37815522427443,-0.338320769942518,0.462387777762292,0.239598554061257,0.0986979012610507,0.363786969611213,0.0907941719789316,-0.551599533260813,-0.617800855762348,-0.991389847235408,-0.311169353699879,1.46817697209427,-0.470400525259478,0.207971241929242,0.0257905801985591,0.403992960255733,0.251412098239705,-0.018306777944153,0.277837575558899,-0.110473910188767,0.0669280749146731,0.128539358273528,-0.189114843888824,0.133558376740387,-0.0210530534538215,149.62]])"
   ]
  },
  {
   "cell_type": "code",
   "execution_count": 54,
   "id": "19d4eb09",
   "metadata": {
    "execution": {
     "iopub.execute_input": "2024-07-06T08:24:22.021774Z",
     "iopub.status.busy": "2024-07-06T08:24:22.021275Z",
     "iopub.status.idle": "2024-07-06T08:24:22.029401Z",
     "shell.execute_reply": "2024-07-06T08:24:22.028194Z"
    },
    "papermill": {
     "duration": 0.036803,
     "end_time": "2024-07-06T08:24:22.031912",
     "exception": false,
     "start_time": "2024-07-06T08:24:21.995109",
     "status": "completed"
    },
    "tags": []
   },
   "outputs": [
    {
     "data": {
      "text/plain": [
       "0"
      ]
     },
     "execution_count": 54,
     "metadata": {},
     "output_type": "execute_result"
    }
   ],
   "source": [
    "pred[0]"
   ]
  },
  {
   "cell_type": "code",
   "execution_count": 55,
   "id": "d8d35136",
   "metadata": {
    "execution": {
     "iopub.execute_input": "2024-07-06T08:24:22.082298Z",
     "iopub.status.busy": "2024-07-06T08:24:22.081418Z",
     "iopub.status.idle": "2024-07-06T08:24:22.088382Z",
     "shell.execute_reply": "2024-07-06T08:24:22.086963Z"
    },
    "papermill": {
     "duration": 0.034795,
     "end_time": "2024-07-06T08:24:22.090978",
     "exception": false,
     "start_time": "2024-07-06T08:24:22.056183",
     "status": "completed"
    },
    "tags": []
   },
   "outputs": [
    {
     "name": "stdout",
     "output_type": "stream",
     "text": [
      "Normal Transcation\n"
     ]
    }
   ],
   "source": [
    "if pred[0] == 0:\n",
    "    print(\"Normal Transcation\")\n",
    "else:\n",
    "    print(\"Fraud Transcation\")"
   ]
  }
 ],
 "metadata": {
  "kaggle": {
   "accelerator": "none",
   "dataSources": [
    {
     "datasetId": 310,
     "sourceId": 23498,
     "sourceType": "datasetVersion"
    }
   ],
   "dockerImageVersionId": 30732,
   "isGpuEnabled": false,
   "isInternetEnabled": false,
   "language": "python",
   "sourceType": "notebook"
  },
  "kernelspec": {
   "display_name": "Python 3",
   "language": "python",
   "name": "python3"
  },
  "language_info": {
   "codemirror_mode": {
    "name": "ipython",
    "version": 3
   },
   "file_extension": ".py",
   "mimetype": "text/x-python",
   "name": "python",
   "nbconvert_exporter": "python",
   "pygments_lexer": "ipython3",
   "version": "3.10.13"
  },
  "papermill": {
   "default_parameters": {},
   "duration": 166.136618,
   "end_time": "2024-07-06T08:24:22.839211",
   "environment_variables": {},
   "exception": null,
   "input_path": "__notebook__.ipynb",
   "output_path": "__notebook__.ipynb",
   "parameters": {},
   "start_time": "2024-07-06T08:21:36.702593",
   "version": "2.5.0"
  }
 },
 "nbformat": 4,
 "nbformat_minor": 5
}
